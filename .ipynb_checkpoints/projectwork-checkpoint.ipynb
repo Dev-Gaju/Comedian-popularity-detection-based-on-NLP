{
 "cells": [
  {
   "cell_type": "markdown",
   "metadata": {},
   "source": [
    "# Collect data from csv"
   ]
  },
  {
   "cell_type": "code",
   "execution_count": 85,
   "metadata": {
    "scrolled": true
   },
   "outputs": [
    {
     "name": "stdout",
     "output_type": "stream",
     "text": [
      "                                                                                        Summary\n",
      "0               [wayland] Folders with many entries in them on my bookmarks toolbar do not open\n",
      "1                        The latest update (67) just deleted ALL OF MY BOOKMARKS AND EXTENSIONS\n",
      "2              Dragging imported folders in bookmark manager does not move all nested bookmarks\n",
      "3       [wayland] Contents of folders in Bookmarks Toolbar which require scrolling don't appear\n",
      "4     nsINavBookmarkObserver onItemChanged() is triggered for each tag added to a bookmark (...\n",
      "...                                                                                         ...\n",
      "1137                                      Bookmarks deleted on 2 computers - suspect sync issue\n",
      "1138                                  Clicking outside the bookmarks menu consumes click events\n",
      "1139                      Customization Mode: Bookmarks toolbar item doesn't have any animation\n",
      "1140                        Bookmarks look very big and don't always match the style of toolbar\n",
      "1141  Intermittent testReadingListToBookmarksMigration | application crashed [@ libdvm.so + ...\n",
      "\n",
      "[1142 rows x 1 columns]\n",
      "(1142, 2121)\n"
     ]
    }
   ],
   "source": [
    "import pandas as pd\n",
    "\n",
    "pd.set_option('display.max_colwidth', 90)\n",
    "\n",
    "filename = 'Bugs.csv'\n",
    "data = pd.read_csv(filename)\n",
    "a = data.iloc[:, 0:1]\n",
    "b =data.iloc[:, 1]\n",
    "print(a)\n",
    "cv1 = CountVectorizer()\n",
    "value= cv1.fit_transform(data['Summary'])\n",
    "print(value.shape) "
   ]
  },
  {
   "cell_type": "code",
   "execution_count": 86,
   "metadata": {},
   "outputs": [],
   "source": [
    "# import string\n",
    "# string.punctuation"
   ]
  },
  {
   "cell_type": "markdown",
   "metadata": {},
   "source": [
    "# Remove Punctuation"
   ]
  },
  {
   "cell_type": "code",
   "execution_count": 87,
   "metadata": {},
   "outputs": [],
   "source": [
    "import string\n",
    "def remove_pinctuation(file):\n",
    "    file_puncremove =''.join([data for data in file if data not in string.punctuation])\n",
    "    return file_puncremove"
   ]
  },
  {
   "cell_type": "code",
   "execution_count": 90,
   "metadata": {},
   "outputs": [
    {
     "data": {
      "text/html": [
       "<div>\n",
       "<style scoped>\n",
       "    .dataframe tbody tr th:only-of-type {\n",
       "        vertical-align: middle;\n",
       "    }\n",
       "\n",
       "    .dataframe tbody tr th {\n",
       "        vertical-align: top;\n",
       "    }\n",
       "\n",
       "    .dataframe thead th {\n",
       "        text-align: right;\n",
       "    }\n",
       "</style>\n",
       "<table border=\"1\" class=\"dataframe\">\n",
       "  <thead>\n",
       "    <tr style=\"text-align: right;\">\n",
       "      <th></th>\n",
       "      <th>Summary</th>\n",
       "      <th>Severity</th>\n",
       "      <th>Summary_clean</th>\n",
       "    </tr>\n",
       "  </thead>\n",
       "  <tbody>\n",
       "    <tr>\n",
       "      <th>0</th>\n",
       "      <td>[wayland] Folders with many entries in them on my bookmarks toolbar do not open</td>\n",
       "      <td>--</td>\n",
       "      <td>wayland Folders with many entries in them on my bookmarks toolbar do not open</td>\n",
       "    </tr>\n",
       "    <tr>\n",
       "      <th>1</th>\n",
       "      <td>The latest update (67) just deleted ALL OF MY BOOKMARKS AND EXTENSIONS</td>\n",
       "      <td>normal</td>\n",
       "      <td>The latest update 67 just deleted ALL OF MY BOOKMARKS AND EXTENSIONS</td>\n",
       "    </tr>\n",
       "    <tr>\n",
       "      <th>2</th>\n",
       "      <td>Dragging imported folders in bookmark manager does not move all nested bookmarks</td>\n",
       "      <td>normal</td>\n",
       "      <td>Dragging imported folders in bookmark manager does not move all nested bookmarks</td>\n",
       "    </tr>\n",
       "    <tr>\n",
       "      <th>3</th>\n",
       "      <td>[wayland] Contents of folders in Bookmarks Toolbar which require scrolling don't appear</td>\n",
       "      <td>--</td>\n",
       "      <td>wayland Contents of folders in Bookmarks Toolbar which require scrolling dont appear</td>\n",
       "    </tr>\n",
       "    <tr>\n",
       "      <th>4</th>\n",
       "      <td>nsINavBookmarkObserver onItemChanged() is triggered for each tag added to a bookmark (...</td>\n",
       "      <td>normal</td>\n",
       "      <td>nsINavBookmarkObserver onItemChanged is triggered for each tag added to a bookmark for...</td>\n",
       "    </tr>\n",
       "  </tbody>\n",
       "</table>\n",
       "</div>"
      ],
      "text/plain": [
       "                                                                                     Summary  \\\n",
       "0            [wayland] Folders with many entries in them on my bookmarks toolbar do not open   \n",
       "1                     The latest update (67) just deleted ALL OF MY BOOKMARKS AND EXTENSIONS   \n",
       "2           Dragging imported folders in bookmark manager does not move all nested bookmarks   \n",
       "3    [wayland] Contents of folders in Bookmarks Toolbar which require scrolling don't appear   \n",
       "4  nsINavBookmarkObserver onItemChanged() is triggered for each tag added to a bookmark (...   \n",
       "\n",
       "  Severity  \\\n",
       "0       --   \n",
       "1   normal   \n",
       "2   normal   \n",
       "3       --   \n",
       "4   normal   \n",
       "\n",
       "                                                                               Summary_clean  \n",
       "0              wayland Folders with many entries in them on my bookmarks toolbar do not open  \n",
       "1                       The latest update 67 just deleted ALL OF MY BOOKMARKS AND EXTENSIONS  \n",
       "2           Dragging imported folders in bookmark manager does not move all nested bookmarks  \n",
       "3       wayland Contents of folders in Bookmarks Toolbar which require scrolling dont appear  \n",
       "4  nsINavBookmarkObserver onItemChanged is triggered for each tag added to a bookmark for...  "
      ]
     },
     "execution_count": 90,
     "metadata": {},
     "output_type": "execute_result"
    }
   ],
   "source": [
    "data['Summary_clean'] = data['Summary'].apply(lambda x: remove_pinctuation(x))\n",
    "data.head(5)"
   ]
  },
  {
   "cell_type": "markdown",
   "metadata": {},
   "source": [
    "# Tokenization and Lowercase"
   ]
  },
  {
   "cell_type": "code",
   "execution_count": 118,
   "metadata": {},
   "outputs": [
    {
     "data": {
      "text/html": [
       "<div>\n",
       "<style scoped>\n",
       "    .dataframe tbody tr th:only-of-type {\n",
       "        vertical-align: middle;\n",
       "    }\n",
       "\n",
       "    .dataframe tbody tr th {\n",
       "        vertical-align: top;\n",
       "    }\n",
       "\n",
       "    .dataframe thead th {\n",
       "        text-align: right;\n",
       "    }\n",
       "</style>\n",
       "<table border=\"1\" class=\"dataframe\">\n",
       "  <thead>\n",
       "    <tr style=\"text-align: right;\">\n",
       "      <th></th>\n",
       "      <th>Summary</th>\n",
       "      <th>Severity</th>\n",
       "      <th>Summary_clean</th>\n",
       "      <th>Summary_clean_tokenize</th>\n",
       "      <th>Summery_word_remove</th>\n",
       "      <th>data_steammed</th>\n",
       "    </tr>\n",
       "  </thead>\n",
       "  <tbody>\n",
       "    <tr>\n",
       "      <th>0</th>\n",
       "      <td>[wayland] Folders with many entries in them on my bookmarks toolbar do not open</td>\n",
       "      <td>--</td>\n",
       "      <td>wayland Folders with many entries in them on my bookmarks toolbar do not open</td>\n",
       "      <td>[wayland, Folders, with, many, entries, in, them, on, my, bookmarks, toolbar, do, not,...</td>\n",
       "      <td>[wayland, folders, many, entries, bookmarks, toolbar, open]</td>\n",
       "      <td>[wayland, folder, mani, entri, bookmark, toolbar, open]</td>\n",
       "    </tr>\n",
       "    <tr>\n",
       "      <th>1</th>\n",
       "      <td>The latest update (67) just deleted ALL OF MY BOOKMARKS AND EXTENSIONS</td>\n",
       "      <td>normal</td>\n",
       "      <td>The latest update 67 just deleted ALL OF MY BOOKMARKS AND EXTENSIONS</td>\n",
       "      <td>[The, latest, update, 67, just, deleted, ALL, OF, MY, BOOKMARKS, AND, EXTENSIONS]</td>\n",
       "      <td>[latest, update, 67, deleted, bookmarks, extensions]</td>\n",
       "      <td>[latest, updat, 67, delet, bookmark, extens]</td>\n",
       "    </tr>\n",
       "    <tr>\n",
       "      <th>2</th>\n",
       "      <td>Dragging imported folders in bookmark manager does not move all nested bookmarks</td>\n",
       "      <td>normal</td>\n",
       "      <td>Dragging imported folders in bookmark manager does not move all nested bookmarks</td>\n",
       "      <td>[Dragging, imported, folders, in, bookmark, manager, does, not, move, all, nested, boo...</td>\n",
       "      <td>[dragging, imported, folders, bookmark, manager, move, nested, bookmarks]</td>\n",
       "      <td>[drag, import, folder, bookmark, manag, move, nest, bookmark]</td>\n",
       "    </tr>\n",
       "    <tr>\n",
       "      <th>3</th>\n",
       "      <td>[wayland] Contents of folders in Bookmarks Toolbar which require scrolling don't appear</td>\n",
       "      <td>--</td>\n",
       "      <td>wayland Contents of folders in Bookmarks Toolbar which require scrolling dont appear</td>\n",
       "      <td>[wayland, Contents, of, folders, in, Bookmarks, Toolbar, which, require, scrolling, do...</td>\n",
       "      <td>[wayland, contents, folders, bookmarks, toolbar, require, scrolling, dont, appear]</td>\n",
       "      <td>[wayland, content, folder, bookmark, toolbar, requir, scroll, dont, appear]</td>\n",
       "    </tr>\n",
       "    <tr>\n",
       "      <th>4</th>\n",
       "      <td>nsINavBookmarkObserver onItemChanged() is triggered for each tag added to a bookmark (...</td>\n",
       "      <td>normal</td>\n",
       "      <td>nsINavBookmarkObserver onItemChanged is triggered for each tag added to a bookmark for...</td>\n",
       "      <td>[nsINavBookmarkObserver, onItemChanged, is, triggered, for, each, tag, added, to, a, b...</td>\n",
       "      <td>[nsinavbookmarkobserver, onitemchanged, triggered, tag, added, bookmark, bookmark]</td>\n",
       "      <td>[nsinavbookmarkobserv, onitemchang, trigger, tag, ad, bookmark, bookmark]</td>\n",
       "    </tr>\n",
       "  </tbody>\n",
       "</table>\n",
       "</div>"
      ],
      "text/plain": [
       "                                                                                     Summary  \\\n",
       "0            [wayland] Folders with many entries in them on my bookmarks toolbar do not open   \n",
       "1                     The latest update (67) just deleted ALL OF MY BOOKMARKS AND EXTENSIONS   \n",
       "2           Dragging imported folders in bookmark manager does not move all nested bookmarks   \n",
       "3    [wayland] Contents of folders in Bookmarks Toolbar which require scrolling don't appear   \n",
       "4  nsINavBookmarkObserver onItemChanged() is triggered for each tag added to a bookmark (...   \n",
       "\n",
       "  Severity  \\\n",
       "0       --   \n",
       "1   normal   \n",
       "2   normal   \n",
       "3       --   \n",
       "4   normal   \n",
       "\n",
       "                                                                               Summary_clean  \\\n",
       "0              wayland Folders with many entries in them on my bookmarks toolbar do not open   \n",
       "1                       The latest update 67 just deleted ALL OF MY BOOKMARKS AND EXTENSIONS   \n",
       "2           Dragging imported folders in bookmark manager does not move all nested bookmarks   \n",
       "3       wayland Contents of folders in Bookmarks Toolbar which require scrolling dont appear   \n",
       "4  nsINavBookmarkObserver onItemChanged is triggered for each tag added to a bookmark for...   \n",
       "\n",
       "                                                                      Summary_clean_tokenize  \\\n",
       "0  [wayland, Folders, with, many, entries, in, them, on, my, bookmarks, toolbar, do, not,...   \n",
       "1          [The, latest, update, 67, just, deleted, ALL, OF, MY, BOOKMARKS, AND, EXTENSIONS]   \n",
       "2  [Dragging, imported, folders, in, bookmark, manager, does, not, move, all, nested, boo...   \n",
       "3  [wayland, Contents, of, folders, in, Bookmarks, Toolbar, which, require, scrolling, do...   \n",
       "4  [nsINavBookmarkObserver, onItemChanged, is, triggered, for, each, tag, added, to, a, b...   \n",
       "\n",
       "                                                                  Summery_word_remove  \\\n",
       "0                         [wayland, folders, many, entries, bookmarks, toolbar, open]   \n",
       "1                                [latest, update, 67, deleted, bookmarks, extensions]   \n",
       "2           [dragging, imported, folders, bookmark, manager, move, nested, bookmarks]   \n",
       "3  [wayland, contents, folders, bookmarks, toolbar, require, scrolling, dont, appear]   \n",
       "4  [nsinavbookmarkobserver, onitemchanged, triggered, tag, added, bookmark, bookmark]   \n",
       "\n",
       "                                                                 data_steammed  \n",
       "0                      [wayland, folder, mani, entri, bookmark, toolbar, open]  \n",
       "1                                 [latest, updat, 67, delet, bookmark, extens]  \n",
       "2                [drag, import, folder, bookmark, manag, move, nest, bookmark]  \n",
       "3  [wayland, content, folder, bookmark, toolbar, requir, scroll, dont, appear]  \n",
       "4    [nsinavbookmarkobserv, onitemchang, trigger, tag, ad, bookmark, bookmark]  "
      ]
     },
     "execution_count": 118,
     "metadata": {},
     "output_type": "execute_result"
    }
   ],
   "source": [
    "import re\n",
    "\n",
    "def tokenize(data):\n",
    "    tokens = re.split('\\W+', data)\n",
    "    return tokens\n",
    "\n",
    "data['Summary_clean_tokenize'] = data['Summary_clean'].apply(lambda x: tokenize(x.lower()))\n",
    "data.head(5)"
   ]
  },
  {
   "cell_type": "markdown",
   "metadata": {},
   "source": [
    "# Removing Stop Words"
   ]
  },
  {
   "cell_type": "code",
   "execution_count": 92,
   "metadata": {
    "scrolled": true
   },
   "outputs": [
    {
     "name": "stderr",
     "output_type": "stream",
     "text": [
      "[nltk_data] Downloading package stopwords to\n",
      "[nltk_data]     C:\\Users\\gazur\\AppData\\Roaming\\nltk_data...\n",
      "[nltk_data]   Package stopwords is already up-to-date!\n"
     ]
    },
    {
     "data": {
      "text/plain": [
       "['i', 'me', 'my', 'myself', 'we', 'our', 'ours', 'ourselves', 'you', \"you're\"]"
      ]
     },
     "execution_count": 92,
     "metadata": {},
     "output_type": "execute_result"
    }
   ],
   "source": [
    "import nltk\n",
    "nltk.download('stopwords')\n",
    "\n",
    "stopwords = nltk.corpus.stopwords.words('english')\n",
    "stopwords[0:10]"
   ]
  },
  {
   "cell_type": "code",
   "execution_count": 93,
   "metadata": {},
   "outputs": [
    {
     "data": {
      "text/html": [
       "<div>\n",
       "<style scoped>\n",
       "    .dataframe tbody tr th:only-of-type {\n",
       "        vertical-align: middle;\n",
       "    }\n",
       "\n",
       "    .dataframe tbody tr th {\n",
       "        vertical-align: top;\n",
       "    }\n",
       "\n",
       "    .dataframe thead th {\n",
       "        text-align: right;\n",
       "    }\n",
       "</style>\n",
       "<table border=\"1\" class=\"dataframe\">\n",
       "  <thead>\n",
       "    <tr style=\"text-align: right;\">\n",
       "      <th></th>\n",
       "      <th>Summary</th>\n",
       "      <th>Severity</th>\n",
       "      <th>Summary_clean</th>\n",
       "      <th>Summary_clean_tokenize</th>\n",
       "      <th>Summery_word_remove</th>\n",
       "    </tr>\n",
       "  </thead>\n",
       "  <tbody>\n",
       "    <tr>\n",
       "      <th>0</th>\n",
       "      <td>[wayland] Folders with many entries in them on my bookmarks toolbar do not open</td>\n",
       "      <td>--</td>\n",
       "      <td>wayland Folders with many entries in them on my bookmarks toolbar do not open</td>\n",
       "      <td>[wayland, folders, with, many, entries, in, them, on, my, bookmarks, toolbar, do, not,...</td>\n",
       "      <td>[wayland, folders, many, entries, bookmarks, toolbar, open]</td>\n",
       "    </tr>\n",
       "    <tr>\n",
       "      <th>1</th>\n",
       "      <td>The latest update (67) just deleted ALL OF MY BOOKMARKS AND EXTENSIONS</td>\n",
       "      <td>normal</td>\n",
       "      <td>The latest update 67 just deleted ALL OF MY BOOKMARKS AND EXTENSIONS</td>\n",
       "      <td>[the, latest, update, 67, just, deleted, all, of, my, bookmarks, and, extensions]</td>\n",
       "      <td>[latest, update, 67, deleted, bookmarks, extensions]</td>\n",
       "    </tr>\n",
       "    <tr>\n",
       "      <th>2</th>\n",
       "      <td>Dragging imported folders in bookmark manager does not move all nested bookmarks</td>\n",
       "      <td>normal</td>\n",
       "      <td>Dragging imported folders in bookmark manager does not move all nested bookmarks</td>\n",
       "      <td>[dragging, imported, folders, in, bookmark, manager, does, not, move, all, nested, boo...</td>\n",
       "      <td>[dragging, imported, folders, bookmark, manager, move, nested, bookmarks]</td>\n",
       "    </tr>\n",
       "    <tr>\n",
       "      <th>3</th>\n",
       "      <td>[wayland] Contents of folders in Bookmarks Toolbar which require scrolling don't appear</td>\n",
       "      <td>--</td>\n",
       "      <td>wayland Contents of folders in Bookmarks Toolbar which require scrolling dont appear</td>\n",
       "      <td>[wayland, contents, of, folders, in, bookmarks, toolbar, which, require, scrolling, do...</td>\n",
       "      <td>[wayland, contents, folders, bookmarks, toolbar, require, scrolling, dont, appear]</td>\n",
       "    </tr>\n",
       "    <tr>\n",
       "      <th>4</th>\n",
       "      <td>nsINavBookmarkObserver onItemChanged() is triggered for each tag added to a bookmark (...</td>\n",
       "      <td>normal</td>\n",
       "      <td>nsINavBookmarkObserver onItemChanged is triggered for each tag added to a bookmark for...</td>\n",
       "      <td>[nsinavbookmarkobserver, onitemchanged, is, triggered, for, each, tag, added, to, a, b...</td>\n",
       "      <td>[nsinavbookmarkobserver, onitemchanged, triggered, tag, added, bookmark, bookmark]</td>\n",
       "    </tr>\n",
       "  </tbody>\n",
       "</table>\n",
       "</div>"
      ],
      "text/plain": [
       "                                                                                     Summary  \\\n",
       "0            [wayland] Folders with many entries in them on my bookmarks toolbar do not open   \n",
       "1                     The latest update (67) just deleted ALL OF MY BOOKMARKS AND EXTENSIONS   \n",
       "2           Dragging imported folders in bookmark manager does not move all nested bookmarks   \n",
       "3    [wayland] Contents of folders in Bookmarks Toolbar which require scrolling don't appear   \n",
       "4  nsINavBookmarkObserver onItemChanged() is triggered for each tag added to a bookmark (...   \n",
       "\n",
       "  Severity  \\\n",
       "0       --   \n",
       "1   normal   \n",
       "2   normal   \n",
       "3       --   \n",
       "4   normal   \n",
       "\n",
       "                                                                               Summary_clean  \\\n",
       "0              wayland Folders with many entries in them on my bookmarks toolbar do not open   \n",
       "1                       The latest update 67 just deleted ALL OF MY BOOKMARKS AND EXTENSIONS   \n",
       "2           Dragging imported folders in bookmark manager does not move all nested bookmarks   \n",
       "3       wayland Contents of folders in Bookmarks Toolbar which require scrolling dont appear   \n",
       "4  nsINavBookmarkObserver onItemChanged is triggered for each tag added to a bookmark for...   \n",
       "\n",
       "                                                                      Summary_clean_tokenize  \\\n",
       "0  [wayland, folders, with, many, entries, in, them, on, my, bookmarks, toolbar, do, not,...   \n",
       "1          [the, latest, update, 67, just, deleted, all, of, my, bookmarks, and, extensions]   \n",
       "2  [dragging, imported, folders, in, bookmark, manager, does, not, move, all, nested, boo...   \n",
       "3  [wayland, contents, of, folders, in, bookmarks, toolbar, which, require, scrolling, do...   \n",
       "4  [nsinavbookmarkobserver, onitemchanged, is, triggered, for, each, tag, added, to, a, b...   \n",
       "\n",
       "                                                                  Summery_word_remove  \n",
       "0                         [wayland, folders, many, entries, bookmarks, toolbar, open]  \n",
       "1                                [latest, update, 67, deleted, bookmarks, extensions]  \n",
       "2           [dragging, imported, folders, bookmark, manager, move, nested, bookmarks]  \n",
       "3  [wayland, contents, folders, bookmarks, toolbar, require, scrolling, dont, appear]  \n",
       "4  [nsinavbookmarkobserver, onitemchanged, triggered, tag, added, bookmark, bookmark]  "
      ]
     },
     "execution_count": 93,
     "metadata": {},
     "output_type": "execute_result"
    }
   ],
   "source": [
    "def remove_stopwords(data_tokenize):\n",
    "    data_clean = [ word for word in data_tokenize if word not in stopwords]\n",
    "    return data_clean\n",
    "\n",
    "data['Summery_word_remove']= data['Summary_clean_tokenize'].apply(lambda x: remove_stopwords(x))\n",
    "data.head(5)   "
   ]
  },
  {
   "cell_type": "markdown",
   "metadata": {},
   "source": [
    "# Porter Steammer"
   ]
  },
  {
   "cell_type": "code",
   "execution_count": 94,
   "metadata": {},
   "outputs": [],
   "source": [
    "import nltk\n",
    "from nltk.stem import PorterStemmer\n",
    "ps = PorterStemmer()\n",
    "# dir(ps)"
   ]
  },
  {
   "cell_type": "code",
   "execution_count": 95,
   "metadata": {},
   "outputs": [
    {
     "name": "stdout",
     "output_type": "stream",
     "text": [
      "coder\n",
      "code\n",
      "code\n",
      "code\n"
     ]
    }
   ],
   "source": [
    "print(ps.stem(\"coder\"))\n",
    "print(ps.stem(\"coding\"))\n",
    "print(ps.stem(\"code\"))\n",
    "print(ps.stem(\"codes\"))"
   ]
  },
  {
   "cell_type": "code",
   "execution_count": 96,
   "metadata": {},
   "outputs": [],
   "source": [
    "def stemming(stopremove_data):\n",
    "    data = [ps.stem(word) for word in stopremove_data] \n",
    "    return data"
   ]
  },
  {
   "cell_type": "code",
   "execution_count": 97,
   "metadata": {
    "scrolled": true
   },
   "outputs": [
    {
     "data": {
      "text/html": [
       "<div>\n",
       "<style scoped>\n",
       "    .dataframe tbody tr th:only-of-type {\n",
       "        vertical-align: middle;\n",
       "    }\n",
       "\n",
       "    .dataframe tbody tr th {\n",
       "        vertical-align: top;\n",
       "    }\n",
       "\n",
       "    .dataframe thead th {\n",
       "        text-align: right;\n",
       "    }\n",
       "</style>\n",
       "<table border=\"1\" class=\"dataframe\">\n",
       "  <thead>\n",
       "    <tr style=\"text-align: right;\">\n",
       "      <th></th>\n",
       "      <th>Summary</th>\n",
       "      <th>Severity</th>\n",
       "      <th>Summary_clean</th>\n",
       "      <th>Summary_clean_tokenize</th>\n",
       "      <th>Summery_word_remove</th>\n",
       "      <th>data_steammed</th>\n",
       "    </tr>\n",
       "  </thead>\n",
       "  <tbody>\n",
       "    <tr>\n",
       "      <th>0</th>\n",
       "      <td>[wayland] Folders with many entries in them on my bookmarks toolbar do not open</td>\n",
       "      <td>--</td>\n",
       "      <td>wayland Folders with many entries in them on my bookmarks toolbar do not open</td>\n",
       "      <td>[wayland, folders, with, many, entries, in, them, on, my, bookmarks, toolbar, do, not,...</td>\n",
       "      <td>[wayland, folders, many, entries, bookmarks, toolbar, open]</td>\n",
       "      <td>[wayland, folder, mani, entri, bookmark, toolbar, open]</td>\n",
       "    </tr>\n",
       "    <tr>\n",
       "      <th>1</th>\n",
       "      <td>The latest update (67) just deleted ALL OF MY BOOKMARKS AND EXTENSIONS</td>\n",
       "      <td>normal</td>\n",
       "      <td>The latest update 67 just deleted ALL OF MY BOOKMARKS AND EXTENSIONS</td>\n",
       "      <td>[the, latest, update, 67, just, deleted, all, of, my, bookmarks, and, extensions]</td>\n",
       "      <td>[latest, update, 67, deleted, bookmarks, extensions]</td>\n",
       "      <td>[latest, updat, 67, delet, bookmark, extens]</td>\n",
       "    </tr>\n",
       "    <tr>\n",
       "      <th>2</th>\n",
       "      <td>Dragging imported folders in bookmark manager does not move all nested bookmarks</td>\n",
       "      <td>normal</td>\n",
       "      <td>Dragging imported folders in bookmark manager does not move all nested bookmarks</td>\n",
       "      <td>[dragging, imported, folders, in, bookmark, manager, does, not, move, all, nested, boo...</td>\n",
       "      <td>[dragging, imported, folders, bookmark, manager, move, nested, bookmarks]</td>\n",
       "      <td>[drag, import, folder, bookmark, manag, move, nest, bookmark]</td>\n",
       "    </tr>\n",
       "    <tr>\n",
       "      <th>3</th>\n",
       "      <td>[wayland] Contents of folders in Bookmarks Toolbar which require scrolling don't appear</td>\n",
       "      <td>--</td>\n",
       "      <td>wayland Contents of folders in Bookmarks Toolbar which require scrolling dont appear</td>\n",
       "      <td>[wayland, contents, of, folders, in, bookmarks, toolbar, which, require, scrolling, do...</td>\n",
       "      <td>[wayland, contents, folders, bookmarks, toolbar, require, scrolling, dont, appear]</td>\n",
       "      <td>[wayland, content, folder, bookmark, toolbar, requir, scroll, dont, appear]</td>\n",
       "    </tr>\n",
       "    <tr>\n",
       "      <th>4</th>\n",
       "      <td>nsINavBookmarkObserver onItemChanged() is triggered for each tag added to a bookmark (...</td>\n",
       "      <td>normal</td>\n",
       "      <td>nsINavBookmarkObserver onItemChanged is triggered for each tag added to a bookmark for...</td>\n",
       "      <td>[nsinavbookmarkobserver, onitemchanged, is, triggered, for, each, tag, added, to, a, b...</td>\n",
       "      <td>[nsinavbookmarkobserver, onitemchanged, triggered, tag, added, bookmark, bookmark]</td>\n",
       "      <td>[nsinavbookmarkobserv, onitemchang, trigger, tag, ad, bookmark, bookmark]</td>\n",
       "    </tr>\n",
       "  </tbody>\n",
       "</table>\n",
       "</div>"
      ],
      "text/plain": [
       "                                                                                     Summary  \\\n",
       "0            [wayland] Folders with many entries in them on my bookmarks toolbar do not open   \n",
       "1                     The latest update (67) just deleted ALL OF MY BOOKMARKS AND EXTENSIONS   \n",
       "2           Dragging imported folders in bookmark manager does not move all nested bookmarks   \n",
       "3    [wayland] Contents of folders in Bookmarks Toolbar which require scrolling don't appear   \n",
       "4  nsINavBookmarkObserver onItemChanged() is triggered for each tag added to a bookmark (...   \n",
       "\n",
       "  Severity  \\\n",
       "0       --   \n",
       "1   normal   \n",
       "2   normal   \n",
       "3       --   \n",
       "4   normal   \n",
       "\n",
       "                                                                               Summary_clean  \\\n",
       "0              wayland Folders with many entries in them on my bookmarks toolbar do not open   \n",
       "1                       The latest update 67 just deleted ALL OF MY BOOKMARKS AND EXTENSIONS   \n",
       "2           Dragging imported folders in bookmark manager does not move all nested bookmarks   \n",
       "3       wayland Contents of folders in Bookmarks Toolbar which require scrolling dont appear   \n",
       "4  nsINavBookmarkObserver onItemChanged is triggered for each tag added to a bookmark for...   \n",
       "\n",
       "                                                                      Summary_clean_tokenize  \\\n",
       "0  [wayland, folders, with, many, entries, in, them, on, my, bookmarks, toolbar, do, not,...   \n",
       "1          [the, latest, update, 67, just, deleted, all, of, my, bookmarks, and, extensions]   \n",
       "2  [dragging, imported, folders, in, bookmark, manager, does, not, move, all, nested, boo...   \n",
       "3  [wayland, contents, of, folders, in, bookmarks, toolbar, which, require, scrolling, do...   \n",
       "4  [nsinavbookmarkobserver, onitemchanged, is, triggered, for, each, tag, added, to, a, b...   \n",
       "\n",
       "                                                                  Summery_word_remove  \\\n",
       "0                         [wayland, folders, many, entries, bookmarks, toolbar, open]   \n",
       "1                                [latest, update, 67, deleted, bookmarks, extensions]   \n",
       "2           [dragging, imported, folders, bookmark, manager, move, nested, bookmarks]   \n",
       "3  [wayland, contents, folders, bookmarks, toolbar, require, scrolling, dont, appear]   \n",
       "4  [nsinavbookmarkobserver, onitemchanged, triggered, tag, added, bookmark, bookmark]   \n",
       "\n",
       "                                                                 data_steammed  \n",
       "0                      [wayland, folder, mani, entri, bookmark, toolbar, open]  \n",
       "1                                 [latest, updat, 67, delet, bookmark, extens]  \n",
       "2                [drag, import, folder, bookmark, manag, move, nest, bookmark]  \n",
       "3  [wayland, content, folder, bookmark, toolbar, requir, scroll, dont, appear]  \n",
       "4    [nsinavbookmarkobserv, onitemchang, trigger, tag, ad, bookmark, bookmark]  "
      ]
     },
     "execution_count": 97,
     "metadata": {},
     "output_type": "execute_result"
    }
   ],
   "source": [
    "data['data_steammed']=data['Summery_word_remove'].apply(lambda x: stemming(x))\n",
    "data.head()"
   ]
  },
  {
   "cell_type": "code",
   "execution_count": 98,
   "metadata": {},
   "outputs": [],
   "source": [
    "# from nltk.stem import PorterStemmer \n",
    "# from nltk.tokenize import word_tokenize \n",
    "   \n",
    "# ps = PorterStemmer() \n",
    "  \n",
    "# # choose some words to be stemmed \n",
    "# words = [\"program\", \"programs\", \"programer\", \"programing\", \"programers\"] \n",
    "  \n",
    "# for w in words: \n",
    "#     print(w, \" : \", ps.stem(w)) "
   ]
  },
  {
   "cell_type": "markdown",
   "metadata": {},
   "source": [
    "# Vector countization"
   ]
  },
  {
   "cell_type": "code",
   "execution_count": 99,
   "metadata": {},
   "outputs": [
    {
     "name": "stdout",
     "output_type": "stream",
     "text": [
      "['in the', 'midweak of', 'of learn', 'the midweak']\n"
     ]
    }
   ],
   "source": [
    "from sklearn.feature_extraction.text import CountVectorizer\n",
    "\n",
    "cv = CountVectorizer(ngram_range=(2,2))   #Bigram technique\n",
    "# corpus=[\"This is a sentence\",\n",
    "#        \"Its a memorable day of solution\",\n",
    "corpus=[\"In the midweak of learn\"]\n",
    "\n",
    "X = cv.fit_transform(corpus)\n",
    "print(cv.get_feature_names())"
   ]
  },
  {
   "cell_type": "code",
   "execution_count": 100,
   "metadata": {},
   "outputs": [],
   "source": [
    "# X = cv.transform(corpus)"
   ]
  },
  {
   "cell_type": "code",
   "execution_count": 101,
   "metadata": {},
   "outputs": [
    {
     "name": "stdout",
     "output_type": "stream",
     "text": [
      "(1, 4)\n"
     ]
    }
   ],
   "source": [
    "print(X.shape)"
   ]
  },
  {
   "cell_type": "code",
   "execution_count": 102,
   "metadata": {
    "scrolled": true
   },
   "outputs": [
    {
     "name": "stdout",
     "output_type": "stream",
     "text": [
      "[[1 1 1 1]]\n"
     ]
    }
   ],
   "source": [
    "print(X.toarray())"
   ]
  },
  {
   "cell_type": "markdown",
   "metadata": {},
   "source": [
    "# Document Term matrix"
   ]
  },
  {
   "cell_type": "code",
   "execution_count": 103,
   "metadata": {},
   "outputs": [
    {
     "name": "stdout",
     "output_type": "stream",
     "text": [
      "(1142, 1646)\n"
     ]
    }
   ],
   "source": [
    "cv1 = CountVectorizer(analyzer=stemming)\n",
    "\n",
    "value= cv1.fit_transform(data['data_steammed'])\n",
    "print(value.shape)             #row and unique word taken"
   ]
  },
  {
   "cell_type": "code",
   "execution_count": 104,
   "metadata": {
    "scrolled": true
   },
   "outputs": [
    {
     "name": "stdout",
     "output_type": "stream",
     "text": [
      "['', '0', '0x80070057', '0x81f52', '1', '100', '10105', '10156', '1090609', '10m', '115m', '1200', '1250203', '1268', '1293618', '1356317', '1404', '1459856', '1460570', '150a1', '16', '1604', '190', '1k', '1px', '1x1', '2', '20', '2010', '20120502', '216', '22119', '23', '2495', '3', '3000', '301', '304', '30k', '310', '35000', '3x', '4003', '43', '4304', '433109', '5', '50', '508221', '51', '56', '6', '631374', '650', '67', '7', '728426', '7802', '8', '803255', '977177', 'abil', 'abl', 'aboutabout', 'aboutblank', 'aboutconfig', 'aboutdownloadsdownload', 'aboutfirefox', 'abouthom', 'aboutlibrari', 'aboutnewtab', 'aboutpref', 'aboutpreferencessecur', 'aboutprivatebrow', 'aboutread', 'abvbg', 'accel', 'accept', 'access', 'accesskey', 'accid', 'accord', 'account', 'accur', 'across', 'act', 'action', 'activ', 'actual', 'ad', 'add', 'addfilemanag', 'addit', 'addon', 'address', 'adjac', 'adjust', 'adressbar', 'aero', 'affect', 'afford', 'age', 'ago', 'ahead', 'aid', 'aindex', 'aka', 'algorithm', 'align', 'aliv', 'allow', 'along', 'alongsid', 'alphabet', 'alreadi', 'also', 'alt', 'alter', 'although', 'alway', 'amo', 'amount', 'amp', 'ampersand', 'andor', 'android', 'androiddatabasedatabaseutilsreadexceptionfromparceldatabaseutilsjava', 'angel', 'anim', 'anoth', 'anymor', 'anyth', 'api', 'app', 'appear', 'append', 'appli', 'applic', 'appmenupopup', 'arbitrari', 'archiv', 'area', 'arent', 'argument', 'around', 'array', 'arrow', 'arrowlik', 'asian', 'assert', 'assign', 'associ', 'async', 'asynchron', 'asyncshutdowntimeout', 'attempt', 'attract', 'attribut', 'australi', 'authent', 'autocomplet', 'autofetch', 'autofil', 'autohid', 'autoland', 'autom', 'automat', 'automigr', 'autoopen', 'autoshow', 'avail', 'avoid', 'aw', 'away', 'awesomescreen', 'awkward', 'back', 'backend', 'backforward', 'background', 'backup', 'bad', 'badli', 'bar', 'bare', 'barfor', 'base64', 'batch', 'bbcamericacom', 'bbccom', 'becom', 'begin', 'behav', 'behavior', 'beta', 'better', 'bft', 'bidirect', 'big', 'binari', 'bit', 'blank', 'blend', 'blink', 'block', 'blue', 'blur', 'blurri', 'bogu', 'bookmark', 'bookmarkbookmark', 'bookmarkedit', 'bookmarkfold', 'bookmarkinguiinit', 'bookmarkinguiuninit', 'bookmarkitemmov', 'bookmarklet', 'bookmarknam', 'bookmarksbar', 'bookmarkscount', 'bookmarkscreatefold', 'bookmarkscreenshotrow', 'bookmarksfetch', 'bookmarksgetsetitemtitl', 'bookmarkshistori', 'bookmarkshistorypassword', 'bookmarksinsertbookmark', 'bookmarksjsm', 'bookmarkslistview', 'bookmarksonchang', 'bookmarksonchildrenreord', 'bookmarksonremov', 'bookmarksopen', 'bookmarkspanelxul', 'bookmarkspasswordsetc', 'bookmarksread', 'bookmarksreord', 'bookmarksscreenshotrow', 'bookmarkssearch', 'bookmarksset', 'bookmarkssetitemlastmodifi', 'bookmarksshow', 'bookmarkssidebarxhtml', 'bookmarkssidebarxul', 'bookmarkstar', 'bookmarkstestsavedsearchesj', 'bookmarkstoolbar', 'bookmarkstoolbaritem', 'bookmarksupd', 'border', 'bork', 'bottom', 'bound', 'boundsisequalinteriorachildrengetboundsabuild', 'box', 'bracket', 'break', 'briefli', 'bring', 'broken', 'brow', 'browser', 'browserbasecontenttesttabsbrowsermultiselecttabsdragtobookmarkstoolbarj', 'browserbookmarksautoexporthtml', 'browserbookmarkscr', 'browserbookmarksgetchildren', 'browserbookmarksopenintabclosesmenu', 'browserbookmarkspropertiesj', 'browserbookmarksupd', 'browserchrom', 'browsercomponentsmigrationtestsunittestiebookmarksj', 'browsercomponentsplacestestsbrowserbrowseraddbookmarkforframej', 'browsercomponentsplacestestsbrowserbrowserbookmarkmenuctrlclickj', 'browsercomponentsplacestestsbrowserbrowserclickbookmarksontoolbarj', 'browsercomponentsplacestestsbrowserbrowsereditbookmarkkeywordsj', 'browsercomponentsplacestestsbrowserbrowserenabletoolbarsidebarj', 'browsercomponentsplacestestsbrowserbrowsertoolbarlibrarydownloadsj', 'browsercomponentsplacestestsbrowserbrowsertoolbaroverflowj', 'browsercomponentsplacestestschrometestbug1163447selectitemsthroughshortcutxul', 'browsercomponentsplacestestschrometesttreeviewdatexhtmltesttreeviewdatexul', 'browsercopyfoldertreej', 'browserprovid', 'browsersidebarpanelsclickj', 'browsertabsloadbookmarksinbackground', 'browsertabsloadbookmarksintab', 'browsertabsloadinbackground', 'browserviewsliveupdatej', 'bucket', 'buffer', 'bug', 'build', 'builder', 'bust', 'busywork', 'button', 'cach', 'call', 'callback', 'caller', 'cancel', 'cancelundo', 'candrop', 'cannot', 'canon', 'cant', 'capabl', 'caret', 'case', 'cau', 'center', 'certain', 'chang', 'changebookmark', 'changeinfo', 'changeset', 'channel', 'char', 'charact', 'charset', 'chatzilla', 'check', 'checkbox', 'chekbox', 'chevron', 'child', 'children', 'choo', 'chrome', 'chromebookmark', 'chromebrowsercontentplacesbrowserplacesviewsj', 'chromebrowsercontentplacesbrowserplacesviewsjs271', 'chromemochitestscontentbrowserbrowsercomponentsplacestestsbrowserbrowserclickbookmarksontoolbar', 'chromemochitestscontentbrowserbrowsercomponentsplacestestsbrowserbrowsertoolbaroverflowj', 'chromium', 'ciphertext', 'circumst', 'classic', 'clean', 'cleanup', 'clear', 'clearli', 'click', 'clickdelet', 'client', 'clip', 'close', 'closerestart', 'cmd', 'cnncom', 'code', 'collap', 'collapseuncollap', 'collect', 'color', 'column', 'combin', 'come', 'comma', 'command', 'commandcontrol', 'commandoptionf', 'commit', 'compar', 'complet', 'compon', 'comput', 'condit', 'configur', 'confirm', 'conflict', 'confu', 'connect', 'consid', 'consist', 'consol', 'constraint', 'consum', 'contain', 'content', 'context', 'contextmenucr', 'contextu', 'continu', 'control', 'controlscrol', 'convert', 'cooki', 'copi', 'copysync', 'correct', 'correctli', 'correspond', 'corrupt', 'could', 'count', 'coupl', 'crash', 'creat', 'creation', 'crop', 'crossweav', 'crowd', 'ctrla', 'ctrld', 'ctrlenter', 'ctrlf', 'ctrlin', 'ctrlk', 'ctrlshiftd', 'ctrlshiftdrag', 'ctrlshifth', 'ctrlshiftn', 'ctrlshiftz', 'ctrlz', 'current', 'currentpag', 'cursor', 'custom', 'customizehelpxhtml', 'cut', 'dark', 'data', 'databaseback', 'date', 'datead', 'dateaddedlastmodifi', 'day', 'db', 'dd', 'debugg', 'decod', 'decoupl', 'decrypt', 'default', 'defaultsort', 'defin', 'definelazymodulegett', 'delay', 'delayedstartup', 'delet', 'demand', 'depend', 'descript', 'design', 'desir', 'desktop', 'despit', 'destroy', 'destruct', 'detach', 'detail', 'determin', 'devic', 'devtool', 'diagon', 'dialog', 'dialogpan', 'dialogpanel', 'didnt', 'differ', 'differenti', 'difficult', 'directli', 'disabl', 'disabledintermitt', 'disableen', 'disapear', 'disappear', 'discov', 'dismiss', 'display', 'dissonantli', 'distinguish', 'distribut', 'distributionini', 'dnd', 'doc', 'document', 'dodg', 'doesnt', 'domain', 'domainhost', 'domainid', 'done', 'dont', 'doorhang', 'dot', 'doubl', 'doublerightclick', 'download', 'drag', 'draganddrop', 'dragdrop', 'draggabl', 'draggingdrop', 'dragleav', 'dragndrop', 'drastic', 'draw', 'drawn', 'drop', 'dropdown', 'dropdownpaneldoorhangerpopupmenu', 'dropmark', 'dropmarkermenu', 'dropshadow', 'dropzon', 'dual', 'due', 'duplic', 'dynam', 'e10sspecif', 'earli', 'easi', 'edg', 'edgei', 'edgium', 'edit', 'editbookmark', 'editor', 'effect', 'effici', 'eg', 'either', 'el', 'element', 'emb', 'emoji', 'empti', 'enabl', 'enclo', 'encod', 'encrypt', 'end', 'endless', 'enforc', 'engin', 'enough', 'ensur', 'enter', 'entri', 'eq', 'eraseeveryth', 'errat', 'erron', 'error', 'errorprev', 'escap', 'etc', 'even', 'event', 'everi', 'everyth', 'exampl', 'exceed', 'except', 'excess', 'exist', 'exit', 'expand', 'expandcollap', 'expandedcollap', 'expandingcollap', 'expect', 'expen', 'experi', 'expir', 'explod', 'expo', 'export', 'exten', 'extend', 'extern', 'extra', 'extract', 'extrem', 'f10', 'f11', 'f2', 'facet', 'fade', 'fail', 'failur', 'fake', 'fal', 'fault', 'faulti', 'favicon', 'favorit', 'featur', 'feed', 'feedback', 'fennec', 'fetch', 'fetchtr', 'ff', 'ff4', 'ff57', 'field', 'figur', 'file', 'filebookmark', 'fillbhtooltip', 'filter', 'filterresultset', 'final', 'find', 'finish', 'firefox', 'first', 'fit', 'five', 'fix', 'fk', 'flash', 'flavor', 'flicker', 'flickersblinksflash', 'flickerswidth', 'float', 'focu', 'fold', 'folder', 'foldersdirectori', 'follow', 'followup', 'font', 'fontspac', 'footer', 'foregroundselect', 'forev', 'forget', 'format', 'found', 'fragment', 'frame', 'framelayerbuildercpp', 'frecenc', 'frecent', 'freez', 'frontend', 'full', 'fullfocu', 'fullpag', 'fulltext', 'function', 'funktion', 'fxr', 'gener', 'get', 'give', 'given', 'glitch', 'global', 'gnome', 'go', 'goe', 'gohistori', 'googl', 'goparentfold', 'got', 'grab', 'granular', 'graphic', 'greater', 'grey', 'group', 'groupfold', 'grow', 'gtk3', 'guess', 'guest', 'guid', 'guidpppf1p3gendk', 'half', 'halfautomat', 'hamburgerlibrari', 'handl', 'hang', 'hangscrash', 'hangslocksfreez', 'happen', 'hard', 'hardwar', 'hasnt', 'hd', 'header', 'heavi', 'height', 'help', 'hgaggreg', 'hidden', 'hide', 'hideomit', 'hierarchi', 'high', 'higher', 'highlight', 'hight', 'hint', 'histori', 'historybookmark', 'historybookmarksetc', 'historypanelxul', 'historytop', 'hit', 'hold', 'home', 'homeend', 'homepag', 'homescreen', 'homograph', 'hook', 'hoover', 'horizont', 'hork', 'host', 'hour', 'hover', 'hst', 'html', 'http', 'httpsmsizecouk', 'httpuser1eampleorg', 'htype', 'huge', 'hvisitcount', 'hw', 'hwa', 'i', 'icloudbookmark', 'icon', 'id', 'ideal', 'ident', 'idn', 'ie', 'ifram', 'ignor', 'illeg', 'illog', 'imag', 'immedi', 'implement', 'import', 'importexportbackuprestor', 'importingexport', 'importrestor', 'imposs', 'improperli', 'improv', 'inaccess', 'incessantli', 'includ', 'incompat', 'incomplet', 'inconsist', 'inconsistentbroken', 'incont', 'incorpor', 'incorrect', 'incorrectli', 'increa', 'increment', 'index', 'indic', 'info', 'initi', 'inlin', 'input', 'insert', 'insid', 'instal', 'instanc', 'instantappli', 'instead', 'intel', 'inter', 'interact', 'intermit', 'intermitt', 'intern', 'internet', 'invalid', 'invari', 'investig', 'invi', 'io', 'isnt', 'issu', 'item', 'itemchang', 'itemid', 'ive', 'javalangillegalargumentexcept', 'javascript', 'javascriptdocumentloc', 'jitter', 'join', 'js', 'json', 'jump', 'junk', 'keep', 'key', 'keyboard', 'keyword', 'kill', 'kind', 'know', 'l10n', 'label', 'lack', 'lag', 'laggi', 'land', 'landscap', 'languag', 'larg', 'larger', 'last', 'latest', 'launch', 'layout', 'ldap', 'lead', 'leak', 'leav', 'left', 'leftclick', 'less', 'let', 'level', 'libdvmso', 'librari', 'librarysearchbar', 'lightweight', 'like', 'limit', 'line', 'link', 'linksbookmarksfold', 'linux', 'lion', 'list', 'listbox', 'listen', 'littl', 'live', 'livemark', 'lo', 'load', 'loadbookmarksinbackground', 'local', 'locat', 'log', 'login', 'lol', 'long', 'longer', 'look', 'lookup', 'loop', 'lose', 'loss', 'lost', 'lot', 'lt', 'mac', 'machin', 'maco', 'macosdark', 'made', 'magnitud', 'mail', 'main', 'make', 'malfunct', 'manag', 'mani', 'manual', 'manuallyspecifi', 'map', 'mapss', 'margin', 'mark', 'marketplac', 'master', 'match', 'maxim', 'maximum', 'may', 'mayb', 'measur', 'memori', 'meniu', 'mentiong', 'menu', 'menubar', 'menuitem', 'menupopup', 'menusepar', 'mercuri', 'merg', 'mess', 'messag', 'messagemanag', 'meta', 'metaremov', 'method', 'middl', 'middleclick', 'might', 'migrat', 'minim', 'minimum', 'mirror', 'mislead', 'mismatch', 'misplac', 'miss', 'mix', 'mlength', 'mobil', 'mockup', 'modal', 'mode', 'modern', 'modifi', 'mojav', 'monitor', 'mou', 'mountain', 'mousedown', 'mousekey', 'mouseov', 'move', 'movedisappear', 'movi', 'moziasyncfavicon', 'mozilla', 'mozillaunifi', 'mozkeywordskeyword', 'mozorigin', 'mozphab', 'multiedit', 'multipl', 'multizilla', 'name', 'narrow', 'nativ', 'nautilu', 'navbar', 'navig', 'nearinvi', 'need', 'neither', 'nest', 'network', 'never', 'new', 'newest', 'newli', 'next', 'nightli', 'node', 'non', 'nonascii', 'nonbookmark', 'nonhttp', 'nonmirror', 'nonplac', 'nonsecur', 'nonspeci', 'normal', 'notabl', 'noth', 'notic', 'notici', 'notif', 'notifi', 'notifyiconobserv', 'nsastr', 'nsautf8str', 'nserrorillegalvalu', 'nserrormalformeduri', 'nsifaviconserv', 'nsinavbookmarkobserv', 'nsinavbookmarkobserveronitemchang', 'nsinavbookmarksserviceonitemmov', 'nsisessionstoregetclosedtabcount', 'nsnavbookmarkscpp', 'nsnavbookmarksgetbookmarkuri', 'nsnavhistori', 'null', 'number', 'object', 'obscur', 'observ', 'offcent', 'offlin', 'offset', 'often', 'ok', 'old', 'omit', 'on2', 'onclearbookmark', 'ondisk', 'one', 'oneclick', 'oneoff', 'onitemchang', 'onitemvisit', 'onoff', 'onscreen', 'onto', 'onunloadchromebrowsercontentplacesbookmarkssidebarxhtml11', 'open', 'opencontain', 'openen', 'opensclo', 'oper', 'optim', 'option', 'order', 'organ', 'origin', 'orphan', 'os', 'outbound', 'outgo', 'outlin', 'outsid', 'overextend', 'overflow', 'overlap', 'overrid', 'overview', 'overwritten', 'pad', 'paddingspac', 'page', 'pagehtmlbookmarkid', 'pageicon', 'paint', 'pam', 'pane', 'panel', 'paneledit', 'panelmenu', 'panelmultiviewjsm140', 'paneluij', 'paragraph', 'parent', 'parentguid', 'parentid', 'part', 'partial', 'particular', 'pass', 'password', 'past', 'patch', 'path', 'pdf', 'per', 'percentencod', 'perf', 'perform', 'perman', 'permiss', 'persist', 'person', 'photon', 'picker', 'pin', 'pixel', 'place', 'placehold', 'placeschevron', 'placescommandhookbookmarklink', 'placesinsertionpoint', 'placeslibrari', 'placessqlit', 'placestoolbar', 'placesuiutil', 'placesutil', 'placesutilsasynchistori', 'placesutilsbookmark', 'placesutilsbookmarksfetch', 'placesutilsbookmarksinsert', 'placesxhtml', 'platform', 'play', 'plea', 'plugin', 'pocket', 'pointer', 'polici', 'poor', 'popul', 'popup', 'port', 'portion', 'posit', 'possibl', 'post', 'postdata', 'pref', 'prefer', 'prereconcili', 'present', 'preserv', 'press', 'prevent', 'preview', 'previou', 'print', 'prior', 'prioriti', 'privaci', 'privat', 'probabl', 'probe', 'problem', 'problemat', 'process', 'profil', 'progress', 'promin', 'promisedocumentflush', 'prompt', 'proper', 'properli', 'properti', 'protect', 'protocol', 'provid', 'ptondragoverchromebrowsercontentplacesbrowserplacesviewsjs160011', 'ptvgetcelltext', 'pul', 'pull', 'pulldown', 'punni', 'push', 'put', 'px', 'quantum', 'quasi', 'queri', 'queryfindexoticvisitstoexpir', 'querytypebookmark', 'quick', 'quickli', 'quicksearch', 'quicktim', 'quot', 'race', 'radianc', 'radii', 'rai', 'random', 'rang', 'rapidli', 'rather', 'ratio', 'rdfabout', 'reach', 'react', 'reaction', 'read', 'reader', 'readjust', 'readonli', 'realiti', 'realli', 'reappend', 'rearrang', 'reboot', 'recalcul', 'recent', 'record', 'recur', 'redesign', 'redirect', 'redo', 'redraw', 'redund', 'redundantli', 'reenabl', 'refer', 'referenceerror', 'reflect', 'reflow', 'refresh', 'refsanchor', 'regex', 'regist', 'regrad', 'regress', 'reimplement', 'reject', 'relat', 'reliabl', 'reload', 'remain', 'rememb', 'remind', 'remot', 'remov', 'renam', 'render', 'reopen', 'reorder', 'repeat', 'replac', 'report', 'request', 'requir', 'resampl', 'reselect', 'reset', 'resistfingerprint', 'resiz', 'resizebl', 'resizedrestor', 'resolut', 'resolutionsdpi', 'resolv', 'respect', 'respon', 'respond', 'restart', 'restor', 'result', 'return', 'reu', 'reveal', 'revert', 'revisit', 'rid', 'right', 'rightclick', 'rightmost', 'robocop', 'root', 'row', 'rtl', 'rule', 'run', 'rutrackerorg', 'safari', 'samsung', 'save', 'savedtolibrari', 'scale', 'schedul', 'scheme', 'scope', 'scrambl', 'screen', 'screenshot', 'script', 'scroll', 'scrollabl', 'scrollarrow', 'scrollbar', 'scrollup', 'sdcard', 'seamonkey', 'seamonkeysm', 'search', 'searchfind', 'searchkeyword', 'second', 'secondari', 'section', 'secur', 'see', 'seem', 'select', 'selecteddeselect', 'selectionchang', 'selector', 'selecttrigg', 'self', 'sensitivetoo', 'separ', 'sequenc', 'server', 'servic', 'session', 'set', 'sever', 'shake', 'share', 'shift', 'shiftcmdd', 'shiftdel', 'shiftin', 'short', 'shortcut', 'shortliv', 'shouldnt', 'show', 'showbookmark', 'showhid', 'showmenubookmark', 'shown', 'shrink', 'shut', 'shutdown', 'side', 'sidebar', 'sidesmargin', 'sign', 'signal', 'silent', 'simpl', 'simpli', 'simplif', 'simplifi', 'sinc', 'singl', 'site', 'size', 'slightli', 'slot', 'slow', 'slower', 'sm', 'small', 'smallmod', 'smart', 'smooth', 'smoother', 'snapshot', 'solut', 'someth', 'sometim', 'somewh', 'sooner', 'sort', 'space', 'spacescolon', 'special', 'specif', 'specifi', 'specul', 'speed', 'spike', 'spin', 'split', 'splitbox', 'spotlight', 'sql', 'sqlite', 'squeez', 'standalon', 'standard', 'standardcommon', 'standbi', 'star', 'start', 'startup', 'state', 'statement', 'statu', 'stay', 'still', 'stock', 'stop', 'stoprestart', 'storag', 'store', 'stori', 'str', 'strang', 'stretch', 'string', 'stuck', 'stutter', 'style', 'stylesheet', 'sub', 'subdir', 'subfold', 'subitem', 'submenu', 'substitut', 'substr', 'subtr', 'subview', 'succeed', 'success', 'successfailur', 'suddenli', 'suggest', 'sumo', 'support', 'suspect', 'swap', 'sway', 'switch', 'switcher', 'symbol', 'symlink', 'sync', 'syncabl', 'syncbookmark', 'syncedbookmarksmirror', 'syncedbookmarksmirrorjsm', 'syncenginebookmark', 'synchron', 'syntax', 'system', 'tab', 'tabl', 'tablet', 'tabnew', 'tabpag', 'tabstrip', 'tag', 'tagsfield', 'take', 'taller', 'tap', 'target', 'task', 'tear', 'telemetri', 'templat', 'temporari', 'temporarili', 'term', 'termin', 'test', 'testabouthomepagenavig', 'testabouthomevi', 'testbookmarkfold', 'testbookmarkspanel', 'testbrowserprovid', 'testplacesautocompletetestspecialsearchj', 'testreadinglisttobookmarksmigr', 'testspecialfold', 'text', 'textbox', 'textshadow', 'textur', 'that', 'theme', 'themeinconsist', 'therefor', 'thing', 'thiscontrol', 'thisnod', 'thousand', 'thread', 'three', 'throw', 'thumbnail', 'tidi', 'tie', 'tier', 'tile', 'time', 'timeout', 'timestamp', 'titl', 'titleedit', 'today', 'togeth', 'toggl', 'toler', 'tombston', 'tool', 'toolbar', 'toolbarbutton', 'toolbarclick', 'toolbarmenu', 'toolbox', 'toolbutton', 'toolkitcomponentsplacestestsunittestoriginsj', 'tooltip', 'top', 'topolog', 'touch', 'touchscreen', 'trace', 'track', 'transact', 'transform', 'transluc', 'trash', 'treat', 'tree', 'treeviewjs158', 'trend', 'tri', 'trigger', 'trivial', 'true', 'truncat', 'trunk', 'trust', 'turn', 'tv', 'twice', 'two', 'twopha', 'type', 'u1234', 'ubuntu', 'ubuntu1804', 'ui', 'uitour', 'unabl', 'unavail', 'uncaught', 'uncheck', 'undefin', 'undiscov', 'undo', 'undoredo', 'unecessari', 'unexpect', 'unfil', 'unicod', 'unicodeinallfield', 'unifi', 'unintend', 'uninterrupt', 'uniqu', 'unit', 'unittest', 'unless', 'unlik', 'unnam', 'unread', 'unrespon', 'unsecur', 'unsort', 'unter', 'unu', 'unwant', 'updat', 'updatenodesvisibilitytim', 'updateoverflowstatuschromebrowsercontentplacesbrowserplacesviewsjs11631', 'upgrad', 'upload', 'upon', 'upward', 'uri', 'url', 'urlbar', 'urlencod', 'usabl', 'use', 'useless', 'user', 'usercontext', 'usercr', 'usernamepassword', 'userpass', 'utf8', 'ux', 'v2', 'valid', 'valu', 'vanish', 'vari', 'variou', 'verifi', 'versa', 'version', 'vertic', 'via', 'vice', 'view', 'viewhid', 'viewopen', 'visibl', 'visit', 'vista', 'visual', 'vmware', 'vs', 'w', 'wait', 'want', 'warn', 'wasbookmark', 'wast', 'watchdog', 'way', 'wayland', 'web', 'webexten', 'webpag', 'websit', 'wheel', 'wheelclickctrlclick', 'whenev', 'wherev', 'whether', 'whitespac', 'whole', 'wide', 'widget', 'widgetoverflow', 'width', 'win', 'window', 'windowleav', 'windowsaarch64', 'within', 'without', 'wo', 'wont', 'work', 'workaround', 'would', 'writabl', 'write', 'wrong', 'wrongli', 'www', 'wyciwyc', 'x', 'xcsyncuitest', 'xep0048', 'xhr', 'xmpp', 'xp', 'xpcshell', 'xulnsshistoryevictoutofrangecontentview', 'xulstor', 'xxxxxxxx', 'yahoo', 'yellow', 'your', 'youtub', 'youv', 'z', 'zoom']\n"
     ]
    }
   ],
   "source": [
    "print(cv1.get_feature_names())"
   ]
  },
  {
   "cell_type": "code",
   "execution_count": 125,
   "metadata": {},
   "outputs": [
    {
     "ename": "AttributeError",
     "evalue": "lower not found",
     "output_type": "error",
     "traceback": [
      "\u001b[1;31m---------------------------------------------------------------------------\u001b[0m",
      "\u001b[1;31mAttributeError\u001b[0m                            Traceback (most recent call last)",
      "\u001b[1;32m<ipython-input-125-e12fee7e6996>\u001b[0m in \u001b[0;36m<module>\u001b[1;34m\u001b[0m\n\u001b[0;32m      1\u001b[0m \u001b[0mcv2\u001b[0m \u001b[1;33m=\u001b[0m \u001b[0mCountVectorizer\u001b[0m\u001b[1;33m(\u001b[0m\u001b[0manalyzer\u001b[0m\u001b[1;33m=\u001b[0m\u001b[0mstemming\u001b[0m\u001b[1;33m)\u001b[0m\u001b[1;33m\u001b[0m\u001b[1;33m\u001b[0m\u001b[0m\n\u001b[0;32m      2\u001b[0m \u001b[0mdata_sample\u001b[0m\u001b[1;33m=\u001b[0m \u001b[0mdata\u001b[0m\u001b[1;33m[\u001b[0m\u001b[1;36m0\u001b[0m\u001b[1;33m:\u001b[0m\u001b[1;36m10\u001b[0m\u001b[1;33m]\u001b[0m\u001b[1;33m\u001b[0m\u001b[1;33m\u001b[0m\u001b[0m\n\u001b[1;32m----> 3\u001b[1;33m \u001b[0mz\u001b[0m\u001b[1;33m=\u001b[0m \u001b[0mcv2\u001b[0m\u001b[1;33m.\u001b[0m\u001b[0mfit_transform\u001b[0m\u001b[1;33m(\u001b[0m\u001b[0mvalue\u001b[0m\u001b[1;33m)\u001b[0m\u001b[1;33m\u001b[0m\u001b[1;33m\u001b[0m\u001b[0m\n\u001b[0m\u001b[0;32m      4\u001b[0m \u001b[0mprint\u001b[0m\u001b[1;33m(\u001b[0m\u001b[0mz\u001b[0m\u001b[1;33m.\u001b[0m\u001b[0mshape\u001b[0m\u001b[1;33m)\u001b[0m\u001b[1;33m\u001b[0m\u001b[1;33m\u001b[0m\u001b[0m\n",
      "\u001b[1;32m~\\anaconda3\\lib\\site-packages\\sklearn\\feature_extraction\\text.py\u001b[0m in \u001b[0;36mfit_transform\u001b[1;34m(self, raw_documents, y)\u001b[0m\n\u001b[0;32m   1218\u001b[0m \u001b[1;33m\u001b[0m\u001b[0m\n\u001b[0;32m   1219\u001b[0m         vocabulary, X = self._count_vocab(raw_documents,\n\u001b[1;32m-> 1220\u001b[1;33m                                           self.fixed_vocabulary_)\n\u001b[0m\u001b[0;32m   1221\u001b[0m \u001b[1;33m\u001b[0m\u001b[0m\n\u001b[0;32m   1222\u001b[0m         \u001b[1;32mif\u001b[0m \u001b[0mself\u001b[0m\u001b[1;33m.\u001b[0m\u001b[0mbinary\u001b[0m\u001b[1;33m:\u001b[0m\u001b[1;33m\u001b[0m\u001b[1;33m\u001b[0m\u001b[0m\n",
      "\u001b[1;32m~\\anaconda3\\lib\\site-packages\\sklearn\\feature_extraction\\text.py\u001b[0m in \u001b[0;36m_count_vocab\u001b[1;34m(self, raw_documents, fixed_vocab)\u001b[0m\n\u001b[0;32m   1129\u001b[0m         \u001b[1;32mfor\u001b[0m \u001b[0mdoc\u001b[0m \u001b[1;32min\u001b[0m \u001b[0mraw_documents\u001b[0m\u001b[1;33m:\u001b[0m\u001b[1;33m\u001b[0m\u001b[1;33m\u001b[0m\u001b[0m\n\u001b[0;32m   1130\u001b[0m             \u001b[0mfeature_counter\u001b[0m \u001b[1;33m=\u001b[0m \u001b[1;33m{\u001b[0m\u001b[1;33m}\u001b[0m\u001b[1;33m\u001b[0m\u001b[1;33m\u001b[0m\u001b[0m\n\u001b[1;32m-> 1131\u001b[1;33m             \u001b[1;32mfor\u001b[0m \u001b[0mfeature\u001b[0m \u001b[1;32min\u001b[0m \u001b[0manalyze\u001b[0m\u001b[1;33m(\u001b[0m\u001b[0mdoc\u001b[0m\u001b[1;33m)\u001b[0m\u001b[1;33m:\u001b[0m\u001b[1;33m\u001b[0m\u001b[1;33m\u001b[0m\u001b[0m\n\u001b[0m\u001b[0;32m   1132\u001b[0m                 \u001b[1;32mtry\u001b[0m\u001b[1;33m:\u001b[0m\u001b[1;33m\u001b[0m\u001b[1;33m\u001b[0m\u001b[0m\n\u001b[0;32m   1133\u001b[0m                     \u001b[0mfeature_idx\u001b[0m \u001b[1;33m=\u001b[0m \u001b[0mvocabulary\u001b[0m\u001b[1;33m[\u001b[0m\u001b[0mfeature\u001b[0m\u001b[1;33m]\u001b[0m\u001b[1;33m\u001b[0m\u001b[1;33m\u001b[0m\u001b[0m\n",
      "\u001b[1;32m~\\anaconda3\\lib\\site-packages\\sklearn\\feature_extraction\\text.py\u001b[0m in \u001b[0;36m_analyze\u001b[1;34m(doc, analyzer, tokenizer, ngrams, preprocessor, decoder, stop_words)\u001b[0m\n\u001b[0;32m     98\u001b[0m         \u001b[0mdoc\u001b[0m \u001b[1;33m=\u001b[0m \u001b[0mdecoder\u001b[0m\u001b[1;33m(\u001b[0m\u001b[0mdoc\u001b[0m\u001b[1;33m)\u001b[0m\u001b[1;33m\u001b[0m\u001b[1;33m\u001b[0m\u001b[0m\n\u001b[0;32m     99\u001b[0m     \u001b[1;32mif\u001b[0m \u001b[0manalyzer\u001b[0m \u001b[1;32mis\u001b[0m \u001b[1;32mnot\u001b[0m \u001b[1;32mNone\u001b[0m\u001b[1;33m:\u001b[0m\u001b[1;33m\u001b[0m\u001b[1;33m\u001b[0m\u001b[0m\n\u001b[1;32m--> 100\u001b[1;33m         \u001b[0mdoc\u001b[0m \u001b[1;33m=\u001b[0m \u001b[0manalyzer\u001b[0m\u001b[1;33m(\u001b[0m\u001b[0mdoc\u001b[0m\u001b[1;33m)\u001b[0m\u001b[1;33m\u001b[0m\u001b[1;33m\u001b[0m\u001b[0m\n\u001b[0m\u001b[0;32m    101\u001b[0m     \u001b[1;32melse\u001b[0m\u001b[1;33m:\u001b[0m\u001b[1;33m\u001b[0m\u001b[1;33m\u001b[0m\u001b[0m\n\u001b[0;32m    102\u001b[0m         \u001b[1;32mif\u001b[0m \u001b[0mpreprocessor\u001b[0m \u001b[1;32mis\u001b[0m \u001b[1;32mnot\u001b[0m \u001b[1;32mNone\u001b[0m\u001b[1;33m:\u001b[0m\u001b[1;33m\u001b[0m\u001b[1;33m\u001b[0m\u001b[0m\n",
      "\u001b[1;32m<ipython-input-96-9d06b3af7151>\u001b[0m in \u001b[0;36mstemming\u001b[1;34m(stopremove_data)\u001b[0m\n\u001b[0;32m      1\u001b[0m \u001b[1;32mdef\u001b[0m \u001b[0mstemming\u001b[0m\u001b[1;33m(\u001b[0m\u001b[0mstopremove_data\u001b[0m\u001b[1;33m)\u001b[0m\u001b[1;33m:\u001b[0m\u001b[1;33m\u001b[0m\u001b[1;33m\u001b[0m\u001b[0m\n\u001b[1;32m----> 2\u001b[1;33m     \u001b[0mdata\u001b[0m \u001b[1;33m=\u001b[0m \u001b[1;33m[\u001b[0m\u001b[0mps\u001b[0m\u001b[1;33m.\u001b[0m\u001b[0mstem\u001b[0m\u001b[1;33m(\u001b[0m\u001b[0mword\u001b[0m\u001b[1;33m)\u001b[0m \u001b[1;32mfor\u001b[0m \u001b[0mword\u001b[0m \u001b[1;32min\u001b[0m \u001b[0mstopremove_data\u001b[0m\u001b[1;33m]\u001b[0m\u001b[1;33m\u001b[0m\u001b[1;33m\u001b[0m\u001b[0m\n\u001b[0m\u001b[0;32m      3\u001b[0m     \u001b[1;32mreturn\u001b[0m \u001b[0mdata\u001b[0m\u001b[1;33m\u001b[0m\u001b[1;33m\u001b[0m\u001b[0m\n",
      "\u001b[1;32m<ipython-input-96-9d06b3af7151>\u001b[0m in \u001b[0;36m<listcomp>\u001b[1;34m(.0)\u001b[0m\n\u001b[0;32m      1\u001b[0m \u001b[1;32mdef\u001b[0m \u001b[0mstemming\u001b[0m\u001b[1;33m(\u001b[0m\u001b[0mstopremove_data\u001b[0m\u001b[1;33m)\u001b[0m\u001b[1;33m:\u001b[0m\u001b[1;33m\u001b[0m\u001b[1;33m\u001b[0m\u001b[0m\n\u001b[1;32m----> 2\u001b[1;33m     \u001b[0mdata\u001b[0m \u001b[1;33m=\u001b[0m \u001b[1;33m[\u001b[0m\u001b[0mps\u001b[0m\u001b[1;33m.\u001b[0m\u001b[0mstem\u001b[0m\u001b[1;33m(\u001b[0m\u001b[0mword\u001b[0m\u001b[1;33m)\u001b[0m \u001b[1;32mfor\u001b[0m \u001b[0mword\u001b[0m \u001b[1;32min\u001b[0m \u001b[0mstopremove_data\u001b[0m\u001b[1;33m]\u001b[0m\u001b[1;33m\u001b[0m\u001b[1;33m\u001b[0m\u001b[0m\n\u001b[0m\u001b[0;32m      3\u001b[0m     \u001b[1;32mreturn\u001b[0m \u001b[0mdata\u001b[0m\u001b[1;33m\u001b[0m\u001b[1;33m\u001b[0m\u001b[0m\n",
      "\u001b[1;32m~\\anaconda3\\lib\\site-packages\\nltk\\stem\\porter.py\u001b[0m in \u001b[0;36mstem\u001b[1;34m(self, word)\u001b[0m\n\u001b[0;32m    654\u001b[0m \u001b[1;33m\u001b[0m\u001b[0m\n\u001b[0;32m    655\u001b[0m     \u001b[1;32mdef\u001b[0m \u001b[0mstem\u001b[0m\u001b[1;33m(\u001b[0m\u001b[0mself\u001b[0m\u001b[1;33m,\u001b[0m \u001b[0mword\u001b[0m\u001b[1;33m)\u001b[0m\u001b[1;33m:\u001b[0m\u001b[1;33m\u001b[0m\u001b[1;33m\u001b[0m\u001b[0m\n\u001b[1;32m--> 656\u001b[1;33m         \u001b[0mstem\u001b[0m \u001b[1;33m=\u001b[0m \u001b[0mword\u001b[0m\u001b[1;33m.\u001b[0m\u001b[0mlower\u001b[0m\u001b[1;33m(\u001b[0m\u001b[1;33m)\u001b[0m\u001b[1;33m\u001b[0m\u001b[1;33m\u001b[0m\u001b[0m\n\u001b[0m\u001b[0;32m    657\u001b[0m \u001b[1;33m\u001b[0m\u001b[0m\n\u001b[0;32m    658\u001b[0m         \u001b[1;32mif\u001b[0m \u001b[0mself\u001b[0m\u001b[1;33m.\u001b[0m\u001b[0mmode\u001b[0m \u001b[1;33m==\u001b[0m \u001b[0mself\u001b[0m\u001b[1;33m.\u001b[0m\u001b[0mNLTK_EXTENSIONS\u001b[0m \u001b[1;32mand\u001b[0m \u001b[0mword\u001b[0m \u001b[1;32min\u001b[0m \u001b[0mself\u001b[0m\u001b[1;33m.\u001b[0m\u001b[0mpool\u001b[0m\u001b[1;33m:\u001b[0m\u001b[1;33m\u001b[0m\u001b[1;33m\u001b[0m\u001b[0m\n",
      "\u001b[1;32m~\\anaconda3\\lib\\site-packages\\scipy\\sparse\\base.py\u001b[0m in \u001b[0;36m__getattr__\u001b[1;34m(self, attr)\u001b[0m\n\u001b[0;32m    689\u001b[0m             \u001b[1;32mreturn\u001b[0m \u001b[0mself\u001b[0m\u001b[1;33m.\u001b[0m\u001b[0mgetnnz\u001b[0m\u001b[1;33m(\u001b[0m\u001b[1;33m)\u001b[0m\u001b[1;33m\u001b[0m\u001b[1;33m\u001b[0m\u001b[0m\n\u001b[0;32m    690\u001b[0m         \u001b[1;32melse\u001b[0m\u001b[1;33m:\u001b[0m\u001b[1;33m\u001b[0m\u001b[1;33m\u001b[0m\u001b[0m\n\u001b[1;32m--> 691\u001b[1;33m             \u001b[1;32mraise\u001b[0m \u001b[0mAttributeError\u001b[0m\u001b[1;33m(\u001b[0m\u001b[0mattr\u001b[0m \u001b[1;33m+\u001b[0m \u001b[1;34m\" not found\"\u001b[0m\u001b[1;33m)\u001b[0m\u001b[1;33m\u001b[0m\u001b[1;33m\u001b[0m\u001b[0m\n\u001b[0m\u001b[0;32m    692\u001b[0m \u001b[1;33m\u001b[0m\u001b[0m\n\u001b[0;32m    693\u001b[0m     \u001b[1;32mdef\u001b[0m \u001b[0mtranspose\u001b[0m\u001b[1;33m(\u001b[0m\u001b[0mself\u001b[0m\u001b[1;33m,\u001b[0m \u001b[0maxes\u001b[0m\u001b[1;33m=\u001b[0m\u001b[1;32mNone\u001b[0m\u001b[1;33m,\u001b[0m \u001b[0mcopy\u001b[0m\u001b[1;33m=\u001b[0m\u001b[1;32mFalse\u001b[0m\u001b[1;33m)\u001b[0m\u001b[1;33m:\u001b[0m\u001b[1;33m\u001b[0m\u001b[1;33m\u001b[0m\u001b[0m\n",
      "\u001b[1;31mAttributeError\u001b[0m: lower not found"
     ]
    }
   ],
   "source": [
    "cv2 = CountVectorizer(analyzer=stemming)\n",
    "data_sample= data[0:10]\n",
    "z= cv2.fit_transform(value)\n",
    "print(z.shape)"
   ]
  },
  {
   "cell_type": "code",
   "execution_count": 107,
   "metadata": {},
   "outputs": [
    {
     "data": {
      "text/html": [
       "<div>\n",
       "<style scoped>\n",
       "    .dataframe tbody tr th:only-of-type {\n",
       "        vertical-align: middle;\n",
       "    }\n",
       "\n",
       "    .dataframe tbody tr th {\n",
       "        vertical-align: top;\n",
       "    }\n",
       "\n",
       "    .dataframe thead th {\n",
       "        text-align: right;\n",
       "    }\n",
       "</style>\n",
       "<table border=\"1\" class=\"dataframe\">\n",
       "  <thead>\n",
       "    <tr style=\"text-align: right;\">\n",
       "      <th></th>\n",
       "      <th>67</th>\n",
       "      <th>ad</th>\n",
       "      <th>appear</th>\n",
       "      <th>bookmark</th>\n",
       "      <th>bookmarkbookmark</th>\n",
       "      <th>browser</th>\n",
       "      <th>content</th>\n",
       "      <th>copi</th>\n",
       "      <th>creat</th>\n",
       "      <th>ctrlshiftdrag</th>\n",
       "      <th>...</th>\n",
       "      <th>titl</th>\n",
       "      <th>toolbar</th>\n",
       "      <th>trace</th>\n",
       "      <th>trigger</th>\n",
       "      <th>unrespon</th>\n",
       "      <th>updat</th>\n",
       "      <th>view</th>\n",
       "      <th>wayland</th>\n",
       "      <th>webpag</th>\n",
       "      <th>wrong</th>\n",
       "    </tr>\n",
       "  </thead>\n",
       "  <tbody>\n",
       "    <tr>\n",
       "      <th>0</th>\n",
       "      <td>0</td>\n",
       "      <td>0</td>\n",
       "      <td>0</td>\n",
       "      <td>1</td>\n",
       "      <td>0</td>\n",
       "      <td>0</td>\n",
       "      <td>0</td>\n",
       "      <td>0</td>\n",
       "      <td>0</td>\n",
       "      <td>0</td>\n",
       "      <td>...</td>\n",
       "      <td>0</td>\n",
       "      <td>1</td>\n",
       "      <td>0</td>\n",
       "      <td>0</td>\n",
       "      <td>0</td>\n",
       "      <td>0</td>\n",
       "      <td>0</td>\n",
       "      <td>1</td>\n",
       "      <td>0</td>\n",
       "      <td>0</td>\n",
       "    </tr>\n",
       "    <tr>\n",
       "      <th>1</th>\n",
       "      <td>1</td>\n",
       "      <td>0</td>\n",
       "      <td>0</td>\n",
       "      <td>1</td>\n",
       "      <td>0</td>\n",
       "      <td>0</td>\n",
       "      <td>0</td>\n",
       "      <td>0</td>\n",
       "      <td>0</td>\n",
       "      <td>0</td>\n",
       "      <td>...</td>\n",
       "      <td>0</td>\n",
       "      <td>0</td>\n",
       "      <td>0</td>\n",
       "      <td>0</td>\n",
       "      <td>0</td>\n",
       "      <td>1</td>\n",
       "      <td>0</td>\n",
       "      <td>0</td>\n",
       "      <td>0</td>\n",
       "      <td>0</td>\n",
       "    </tr>\n",
       "    <tr>\n",
       "      <th>2</th>\n",
       "      <td>0</td>\n",
       "      <td>0</td>\n",
       "      <td>0</td>\n",
       "      <td>2</td>\n",
       "      <td>0</td>\n",
       "      <td>0</td>\n",
       "      <td>0</td>\n",
       "      <td>0</td>\n",
       "      <td>0</td>\n",
       "      <td>0</td>\n",
       "      <td>...</td>\n",
       "      <td>0</td>\n",
       "      <td>0</td>\n",
       "      <td>0</td>\n",
       "      <td>0</td>\n",
       "      <td>0</td>\n",
       "      <td>0</td>\n",
       "      <td>0</td>\n",
       "      <td>0</td>\n",
       "      <td>0</td>\n",
       "      <td>0</td>\n",
       "    </tr>\n",
       "    <tr>\n",
       "      <th>3</th>\n",
       "      <td>0</td>\n",
       "      <td>0</td>\n",
       "      <td>1</td>\n",
       "      <td>1</td>\n",
       "      <td>0</td>\n",
       "      <td>0</td>\n",
       "      <td>1</td>\n",
       "      <td>0</td>\n",
       "      <td>0</td>\n",
       "      <td>0</td>\n",
       "      <td>...</td>\n",
       "      <td>0</td>\n",
       "      <td>1</td>\n",
       "      <td>0</td>\n",
       "      <td>0</td>\n",
       "      <td>0</td>\n",
       "      <td>0</td>\n",
       "      <td>0</td>\n",
       "      <td>1</td>\n",
       "      <td>0</td>\n",
       "      <td>0</td>\n",
       "    </tr>\n",
       "    <tr>\n",
       "      <th>4</th>\n",
       "      <td>0</td>\n",
       "      <td>1</td>\n",
       "      <td>0</td>\n",
       "      <td>2</td>\n",
       "      <td>0</td>\n",
       "      <td>0</td>\n",
       "      <td>0</td>\n",
       "      <td>0</td>\n",
       "      <td>0</td>\n",
       "      <td>0</td>\n",
       "      <td>...</td>\n",
       "      <td>0</td>\n",
       "      <td>0</td>\n",
       "      <td>0</td>\n",
       "      <td>1</td>\n",
       "      <td>0</td>\n",
       "      <td>0</td>\n",
       "      <td>0</td>\n",
       "      <td>0</td>\n",
       "      <td>0</td>\n",
       "      <td>0</td>\n",
       "    </tr>\n",
       "    <tr>\n",
       "      <th>5</th>\n",
       "      <td>0</td>\n",
       "      <td>0</td>\n",
       "      <td>0</td>\n",
       "      <td>1</td>\n",
       "      <td>0</td>\n",
       "      <td>0</td>\n",
       "      <td>0</td>\n",
       "      <td>0</td>\n",
       "      <td>0</td>\n",
       "      <td>0</td>\n",
       "      <td>...</td>\n",
       "      <td>0</td>\n",
       "      <td>0</td>\n",
       "      <td>0</td>\n",
       "      <td>0</td>\n",
       "      <td>0</td>\n",
       "      <td>0</td>\n",
       "      <td>1</td>\n",
       "      <td>0</td>\n",
       "      <td>0</td>\n",
       "      <td>1</td>\n",
       "    </tr>\n",
       "    <tr>\n",
       "      <th>6</th>\n",
       "      <td>0</td>\n",
       "      <td>0</td>\n",
       "      <td>0</td>\n",
       "      <td>1</td>\n",
       "      <td>0</td>\n",
       "      <td>0</td>\n",
       "      <td>0</td>\n",
       "      <td>0</td>\n",
       "      <td>0</td>\n",
       "      <td>0</td>\n",
       "      <td>...</td>\n",
       "      <td>1</td>\n",
       "      <td>0</td>\n",
       "      <td>0</td>\n",
       "      <td>0</td>\n",
       "      <td>0</td>\n",
       "      <td>0</td>\n",
       "      <td>0</td>\n",
       "      <td>0</td>\n",
       "      <td>1</td>\n",
       "      <td>0</td>\n",
       "    </tr>\n",
       "    <tr>\n",
       "      <th>7</th>\n",
       "      <td>0</td>\n",
       "      <td>0</td>\n",
       "      <td>0</td>\n",
       "      <td>1</td>\n",
       "      <td>0</td>\n",
       "      <td>1</td>\n",
       "      <td>0</td>\n",
       "      <td>0</td>\n",
       "      <td>0</td>\n",
       "      <td>0</td>\n",
       "      <td>...</td>\n",
       "      <td>0</td>\n",
       "      <td>0</td>\n",
       "      <td>1</td>\n",
       "      <td>0</td>\n",
       "      <td>1</td>\n",
       "      <td>0</td>\n",
       "      <td>0</td>\n",
       "      <td>0</td>\n",
       "      <td>0</td>\n",
       "      <td>0</td>\n",
       "    </tr>\n",
       "    <tr>\n",
       "      <th>8</th>\n",
       "      <td>0</td>\n",
       "      <td>0</td>\n",
       "      <td>0</td>\n",
       "      <td>0</td>\n",
       "      <td>1</td>\n",
       "      <td>0</td>\n",
       "      <td>0</td>\n",
       "      <td>1</td>\n",
       "      <td>2</td>\n",
       "      <td>1</td>\n",
       "      <td>...</td>\n",
       "      <td>0</td>\n",
       "      <td>0</td>\n",
       "      <td>0</td>\n",
       "      <td>0</td>\n",
       "      <td>0</td>\n",
       "      <td>0</td>\n",
       "      <td>0</td>\n",
       "      <td>0</td>\n",
       "      <td>0</td>\n",
       "      <td>0</td>\n",
       "    </tr>\n",
       "    <tr>\n",
       "      <th>9</th>\n",
       "      <td>0</td>\n",
       "      <td>0</td>\n",
       "      <td>0</td>\n",
       "      <td>1</td>\n",
       "      <td>0</td>\n",
       "      <td>0</td>\n",
       "      <td>0</td>\n",
       "      <td>0</td>\n",
       "      <td>0</td>\n",
       "      <td>0</td>\n",
       "      <td>...</td>\n",
       "      <td>0</td>\n",
       "      <td>0</td>\n",
       "      <td>0</td>\n",
       "      <td>0</td>\n",
       "      <td>0</td>\n",
       "      <td>0</td>\n",
       "      <td>0</td>\n",
       "      <td>0</td>\n",
       "      <td>0</td>\n",
       "      <td>0</td>\n",
       "    </tr>\n",
       "  </tbody>\n",
       "</table>\n",
       "<p>10 rows × 55 columns</p>\n",
       "</div>"
      ],
      "text/plain": [
       "   67  ad  appear  bookmark  bookmarkbookmark  browser  content  copi  creat  \\\n",
       "0   0   0       0         1                 0        0        0     0      0   \n",
       "1   1   0       0         1                 0        0        0     0      0   \n",
       "2   0   0       0         2                 0        0        0     0      0   \n",
       "3   0   0       1         1                 0        0        1     0      0   \n",
       "4   0   1       0         2                 0        0        0     0      0   \n",
       "5   0   0       0         1                 0        0        0     0      0   \n",
       "6   0   0       0         1                 0        0        0     0      0   \n",
       "7   0   0       0         1                 0        1        0     0      0   \n",
       "8   0   0       0         0                 1        0        0     1      2   \n",
       "9   0   0       0         1                 0        0        0     0      0   \n",
       "\n",
       "   ctrlshiftdrag  ...  titl  toolbar  trace  trigger  unrespon  updat  view  \\\n",
       "0              0  ...     0        1      0        0         0      0     0   \n",
       "1              0  ...     0        0      0        0         0      1     0   \n",
       "2              0  ...     0        0      0        0         0      0     0   \n",
       "3              0  ...     0        1      0        0         0      0     0   \n",
       "4              0  ...     0        0      0        1         0      0     0   \n",
       "5              0  ...     0        0      0        0         0      0     1   \n",
       "6              0  ...     1        0      0        0         0      0     0   \n",
       "7              0  ...     0        0      1        0         1      0     0   \n",
       "8              1  ...     0        0      0        0         0      0     0   \n",
       "9              0  ...     0        0      0        0         0      0     0   \n",
       "\n",
       "   wayland  webpag  wrong  \n",
       "0        1       0      0  \n",
       "1        0       0      0  \n",
       "2        0       0      0  \n",
       "3        1       0      0  \n",
       "4        0       0      0  \n",
       "5        0       0      1  \n",
       "6        0       1      0  \n",
       "7        0       0      0  \n",
       "8        0       0      0  \n",
       "9        0       0      0  \n",
       "\n",
       "[10 rows x 55 columns]"
      ]
     },
     "execution_count": 107,
     "metadata": {},
     "output_type": "execute_result"
    }
   ],
   "source": [
    "data_frame1=pd.DataFrame(z.toarray(), columns=cv2.get_feature_names())\n",
    "data_frame1.head(10)"
   ]
  },
  {
   "cell_type": "markdown",
   "metadata": {},
   "source": [
    "# Bigram Technique"
   ]
  },
  {
   "cell_type": "code",
   "execution_count": 128,
   "metadata": {},
   "outputs": [
    {
     "name": "stdout",
     "output_type": "stream",
     "text": [
      "(10, 99)\n"
     ]
    },
    {
     "ename": "NameError",
     "evalue": "name 'Summary_clean' is not defined",
     "output_type": "error",
     "traceback": [
      "\u001b[1;31m---------------------------------------------------------------------------\u001b[0m",
      "\u001b[1;31mNameError\u001b[0m                                 Traceback (most recent call last)",
      "\u001b[1;32m<ipython-input-128-24c4bd7434c0>\u001b[0m in \u001b[0;36m<module>\u001b[1;34m\u001b[0m\n\u001b[0;32m      3\u001b[0m \u001b[0mz\u001b[0m\u001b[1;33m=\u001b[0m \u001b[0mcv3\u001b[0m\u001b[1;33m.\u001b[0m\u001b[0mfit_transform\u001b[0m\u001b[1;33m(\u001b[0m\u001b[0mdata_sample\u001b[0m\u001b[1;33m[\u001b[0m\u001b[1;34m'Summary_clean'\u001b[0m\u001b[1;33m]\u001b[0m\u001b[1;33m)\u001b[0m\u001b[1;33m\u001b[0m\u001b[1;33m\u001b[0m\u001b[0m\n\u001b[0;32m      4\u001b[0m \u001b[0mprint\u001b[0m\u001b[1;33m(\u001b[0m\u001b[0mz\u001b[0m\u001b[1;33m.\u001b[0m\u001b[0mshape\u001b[0m\u001b[1;33m)\u001b[0m\u001b[1;33m\u001b[0m\u001b[1;33m\u001b[0m\u001b[0m\n\u001b[1;32m----> 5\u001b[1;33m \u001b[0mprint\u001b[0m\u001b[1;33m(\u001b[0m\u001b[0mSummary_clean\u001b[0m\u001b[1;33m)\u001b[0m\u001b[1;33m\u001b[0m\u001b[1;33m\u001b[0m\u001b[0m\n\u001b[0m",
      "\u001b[1;31mNameError\u001b[0m: name 'Summary_clean' is not defined"
     ]
    }
   ],
   "source": [
    "cv3 = CountVectorizer(ngram_range=(2,2))\n",
    "data_sample= data[0:10]\n",
    "z= cv3.fit_transform(data_sample['Summary_clean'])\n",
    "print(z.shape)\n",
    "print(data_sample['Summary_clean'])"
   ]
  },
  {
   "cell_type": "code",
   "execution_count": 111,
   "metadata": {
    "scrolled": false
   },
   "outputs": [
    {
     "data": {
      "text/html": [
       "<div>\n",
       "<style scoped>\n",
       "    .dataframe tbody tr th:only-of-type {\n",
       "        vertical-align: middle;\n",
       "    }\n",
       "\n",
       "    .dataframe tbody tr th {\n",
       "        vertical-align: top;\n",
       "    }\n",
       "\n",
       "    .dataframe thead th {\n",
       "        text-align: right;\n",
       "    }\n",
       "</style>\n",
       "<table border=\"1\" class=\"dataframe\">\n",
       "  <thead>\n",
       "    <tr style=\"text-align: right;\">\n",
       "      <th></th>\n",
       "      <th>67 just</th>\n",
       "      <th>added to</th>\n",
       "      <th>all nested</th>\n",
       "      <th>all of</th>\n",
       "      <th>and bookmarks</th>\n",
       "      <th>and extensions</th>\n",
       "      <th>are unresponsive</th>\n",
       "      <th>be created</th>\n",
       "      <th>bookmark for</th>\n",
       "      <th>bookmark manager</th>\n",
       "      <th>...</th>\n",
       "      <th>update 67</th>\n",
       "      <th>view has</th>\n",
       "      <th>wayland contents</th>\n",
       "      <th>wayland folders</th>\n",
       "      <th>webpages titles</th>\n",
       "      <th>when running</th>\n",
       "      <th>which require</th>\n",
       "      <th>will be</th>\n",
       "      <th>with many</th>\n",
       "      <th>wrong focus</th>\n",
       "    </tr>\n",
       "  </thead>\n",
       "  <tbody>\n",
       "    <tr>\n",
       "      <th>0</th>\n",
       "      <td>0</td>\n",
       "      <td>0</td>\n",
       "      <td>0</td>\n",
       "      <td>0</td>\n",
       "      <td>0</td>\n",
       "      <td>0</td>\n",
       "      <td>0</td>\n",
       "      <td>0</td>\n",
       "      <td>0</td>\n",
       "      <td>0</td>\n",
       "      <td>...</td>\n",
       "      <td>0</td>\n",
       "      <td>0</td>\n",
       "      <td>0</td>\n",
       "      <td>1</td>\n",
       "      <td>0</td>\n",
       "      <td>0</td>\n",
       "      <td>0</td>\n",
       "      <td>0</td>\n",
       "      <td>1</td>\n",
       "      <td>0</td>\n",
       "    </tr>\n",
       "    <tr>\n",
       "      <th>1</th>\n",
       "      <td>1</td>\n",
       "      <td>0</td>\n",
       "      <td>0</td>\n",
       "      <td>1</td>\n",
       "      <td>0</td>\n",
       "      <td>1</td>\n",
       "      <td>0</td>\n",
       "      <td>0</td>\n",
       "      <td>0</td>\n",
       "      <td>0</td>\n",
       "      <td>...</td>\n",
       "      <td>1</td>\n",
       "      <td>0</td>\n",
       "      <td>0</td>\n",
       "      <td>0</td>\n",
       "      <td>0</td>\n",
       "      <td>0</td>\n",
       "      <td>0</td>\n",
       "      <td>0</td>\n",
       "      <td>0</td>\n",
       "      <td>0</td>\n",
       "    </tr>\n",
       "    <tr>\n",
       "      <th>2</th>\n",
       "      <td>0</td>\n",
       "      <td>0</td>\n",
       "      <td>1</td>\n",
       "      <td>0</td>\n",
       "      <td>0</td>\n",
       "      <td>0</td>\n",
       "      <td>0</td>\n",
       "      <td>0</td>\n",
       "      <td>0</td>\n",
       "      <td>1</td>\n",
       "      <td>...</td>\n",
       "      <td>0</td>\n",
       "      <td>0</td>\n",
       "      <td>0</td>\n",
       "      <td>0</td>\n",
       "      <td>0</td>\n",
       "      <td>0</td>\n",
       "      <td>0</td>\n",
       "      <td>0</td>\n",
       "      <td>0</td>\n",
       "      <td>0</td>\n",
       "    </tr>\n",
       "    <tr>\n",
       "      <th>3</th>\n",
       "      <td>0</td>\n",
       "      <td>0</td>\n",
       "      <td>0</td>\n",
       "      <td>0</td>\n",
       "      <td>0</td>\n",
       "      <td>0</td>\n",
       "      <td>0</td>\n",
       "      <td>0</td>\n",
       "      <td>0</td>\n",
       "      <td>0</td>\n",
       "      <td>...</td>\n",
       "      <td>0</td>\n",
       "      <td>0</td>\n",
       "      <td>1</td>\n",
       "      <td>0</td>\n",
       "      <td>0</td>\n",
       "      <td>0</td>\n",
       "      <td>1</td>\n",
       "      <td>0</td>\n",
       "      <td>0</td>\n",
       "      <td>0</td>\n",
       "    </tr>\n",
       "    <tr>\n",
       "      <th>4</th>\n",
       "      <td>0</td>\n",
       "      <td>1</td>\n",
       "      <td>0</td>\n",
       "      <td>0</td>\n",
       "      <td>0</td>\n",
       "      <td>0</td>\n",
       "      <td>0</td>\n",
       "      <td>0</td>\n",
       "      <td>1</td>\n",
       "      <td>0</td>\n",
       "      <td>...</td>\n",
       "      <td>0</td>\n",
       "      <td>0</td>\n",
       "      <td>0</td>\n",
       "      <td>0</td>\n",
       "      <td>0</td>\n",
       "      <td>0</td>\n",
       "      <td>0</td>\n",
       "      <td>0</td>\n",
       "      <td>0</td>\n",
       "      <td>0</td>\n",
       "    </tr>\n",
       "    <tr>\n",
       "      <th>5</th>\n",
       "      <td>0</td>\n",
       "      <td>0</td>\n",
       "      <td>0</td>\n",
       "      <td>0</td>\n",
       "      <td>0</td>\n",
       "      <td>0</td>\n",
       "      <td>0</td>\n",
       "      <td>0</td>\n",
       "      <td>0</td>\n",
       "      <td>0</td>\n",
       "      <td>...</td>\n",
       "      <td>0</td>\n",
       "      <td>1</td>\n",
       "      <td>0</td>\n",
       "      <td>0</td>\n",
       "      <td>0</td>\n",
       "      <td>0</td>\n",
       "      <td>0</td>\n",
       "      <td>0</td>\n",
       "      <td>0</td>\n",
       "      <td>1</td>\n",
       "    </tr>\n",
       "    <tr>\n",
       "      <th>6</th>\n",
       "      <td>0</td>\n",
       "      <td>0</td>\n",
       "      <td>0</td>\n",
       "      <td>0</td>\n",
       "      <td>1</td>\n",
       "      <td>0</td>\n",
       "      <td>0</td>\n",
       "      <td>0</td>\n",
       "      <td>0</td>\n",
       "      <td>0</td>\n",
       "      <td>...</td>\n",
       "      <td>0</td>\n",
       "      <td>0</td>\n",
       "      <td>0</td>\n",
       "      <td>0</td>\n",
       "      <td>1</td>\n",
       "      <td>0</td>\n",
       "      <td>0</td>\n",
       "      <td>0</td>\n",
       "      <td>0</td>\n",
       "      <td>0</td>\n",
       "    </tr>\n",
       "    <tr>\n",
       "      <th>7</th>\n",
       "      <td>0</td>\n",
       "      <td>0</td>\n",
       "      <td>0</td>\n",
       "      <td>0</td>\n",
       "      <td>0</td>\n",
       "      <td>0</td>\n",
       "      <td>1</td>\n",
       "      <td>0</td>\n",
       "      <td>0</td>\n",
       "      <td>0</td>\n",
       "      <td>...</td>\n",
       "      <td>0</td>\n",
       "      <td>0</td>\n",
       "      <td>0</td>\n",
       "      <td>0</td>\n",
       "      <td>0</td>\n",
       "      <td>1</td>\n",
       "      <td>0</td>\n",
       "      <td>0</td>\n",
       "      <td>0</td>\n",
       "      <td>0</td>\n",
       "    </tr>\n",
       "    <tr>\n",
       "      <th>8</th>\n",
       "      <td>0</td>\n",
       "      <td>0</td>\n",
       "      <td>0</td>\n",
       "      <td>0</td>\n",
       "      <td>0</td>\n",
       "      <td>0</td>\n",
       "      <td>0</td>\n",
       "      <td>1</td>\n",
       "      <td>0</td>\n",
       "      <td>0</td>\n",
       "      <td>...</td>\n",
       "      <td>0</td>\n",
       "      <td>0</td>\n",
       "      <td>0</td>\n",
       "      <td>0</td>\n",
       "      <td>0</td>\n",
       "      <td>0</td>\n",
       "      <td>0</td>\n",
       "      <td>1</td>\n",
       "      <td>0</td>\n",
       "      <td>0</td>\n",
       "    </tr>\n",
       "    <tr>\n",
       "      <th>9</th>\n",
       "      <td>0</td>\n",
       "      <td>0</td>\n",
       "      <td>0</td>\n",
       "      <td>0</td>\n",
       "      <td>0</td>\n",
       "      <td>0</td>\n",
       "      <td>0</td>\n",
       "      <td>0</td>\n",
       "      <td>0</td>\n",
       "      <td>0</td>\n",
       "      <td>...</td>\n",
       "      <td>0</td>\n",
       "      <td>0</td>\n",
       "      <td>0</td>\n",
       "      <td>0</td>\n",
       "      <td>0</td>\n",
       "      <td>0</td>\n",
       "      <td>0</td>\n",
       "      <td>0</td>\n",
       "      <td>0</td>\n",
       "      <td>0</td>\n",
       "    </tr>\n",
       "  </tbody>\n",
       "</table>\n",
       "<p>10 rows × 99 columns</p>\n",
       "</div>"
      ],
      "text/plain": [
       "   67 just  added to  all nested  all of  and bookmarks  and extensions  \\\n",
       "0        0         0           0       0              0               0   \n",
       "1        1         0           0       1              0               1   \n",
       "2        0         0           1       0              0               0   \n",
       "3        0         0           0       0              0               0   \n",
       "4        0         1           0       0              0               0   \n",
       "5        0         0           0       0              0               0   \n",
       "6        0         0           0       0              1               0   \n",
       "7        0         0           0       0              0               0   \n",
       "8        0         0           0       0              0               0   \n",
       "9        0         0           0       0              0               0   \n",
       "\n",
       "   are unresponsive  be created  bookmark for  bookmark manager  ...  \\\n",
       "0                 0           0             0                 0  ...   \n",
       "1                 0           0             0                 0  ...   \n",
       "2                 0           0             0                 1  ...   \n",
       "3                 0           0             0                 0  ...   \n",
       "4                 0           0             1                 0  ...   \n",
       "5                 0           0             0                 0  ...   \n",
       "6                 0           0             0                 0  ...   \n",
       "7                 1           0             0                 0  ...   \n",
       "8                 0           1             0                 0  ...   \n",
       "9                 0           0             0                 0  ...   \n",
       "\n",
       "   update 67  view has  wayland contents  wayland folders  webpages titles  \\\n",
       "0          0         0                 0                1                0   \n",
       "1          1         0                 0                0                0   \n",
       "2          0         0                 0                0                0   \n",
       "3          0         0                 1                0                0   \n",
       "4          0         0                 0                0                0   \n",
       "5          0         1                 0                0                0   \n",
       "6          0         0                 0                0                1   \n",
       "7          0         0                 0                0                0   \n",
       "8          0         0                 0                0                0   \n",
       "9          0         0                 0                0                0   \n",
       "\n",
       "   when running  which require  will be  with many  wrong focus  \n",
       "0             0              0        0          1            0  \n",
       "1             0              0        0          0            0  \n",
       "2             0              0        0          0            0  \n",
       "3             0              1        0          0            0  \n",
       "4             0              0        0          0            0  \n",
       "5             0              0        0          0            1  \n",
       "6             0              0        0          0            0  \n",
       "7             1              0        0          0            0  \n",
       "8             0              0        1          0            0  \n",
       "9             0              0        0          0            0  \n",
       "\n",
       "[10 rows x 99 columns]"
      ]
     },
     "execution_count": 111,
     "metadata": {},
     "output_type": "execute_result"
    }
   ],
   "source": [
    "data_frame2=pd.DataFrame(z.toarray(), columns=cv3.get_feature_names())\n",
    "data_frame2.head(20)"
   ]
  },
  {
   "cell_type": "markdown",
   "metadata": {},
   "source": [
    "# TFIDF Vectorized"
   ]
  },
  {
   "cell_type": "code",
   "execution_count": 66,
   "metadata": {},
   "outputs": [
    {
     "name": "stdout",
     "output_type": "stream",
     "text": [
      "(3, 12)\n"
     ]
    }
   ],
   "source": [
    "'''\n",
    "its a example to understand how this library works\n",
    "\n",
    "'''\n",
    "\n",
    "\n",
    "from sklearn.feature_extraction.text import TfidfVectorizer\n",
    "tfidf = TfidfVectorizer()\n",
    "corpus=[\"This is a sentence\",\n",
    "       \"Its a memorable day of solution\",\n",
    "       \"In the midweak learn\"]\n",
    "x= tfidf.fit_transform(corpus)\n",
    "print(x.shape)"
   ]
  },
  {
   "cell_type": "code",
   "execution_count": 67,
   "metadata": {},
   "outputs": [
    {
     "name": "stdout",
     "output_type": "stream",
     "text": [
      "        day   in       is       its  learn  memorable  midweak        of  \\\n",
      "0  0.000000  0.0  0.57735  0.000000    0.0   0.000000      0.0  0.000000   \n",
      "1  0.447214  0.0  0.00000  0.447214    0.0   0.447214      0.0  0.447214   \n",
      "2  0.000000  0.5  0.00000  0.000000    0.5   0.000000      0.5  0.000000   \n",
      "\n",
      "   sentence  solution  the     this  \n",
      "0   0.57735  0.000000  0.0  0.57735  \n",
      "1   0.00000  0.447214  0.0  0.00000  \n",
      "2   0.00000  0.000000  0.5  0.00000  \n"
     ]
    }
   ],
   "source": [
    "data_frame3=pd.DataFrame(x.toarray(), columns=tfidf.get_feature_names())\n",
    "print(data_frame3)"
   ]
  },
  {
   "cell_type": "code",
   "execution_count": 70,
   "metadata": {},
   "outputs": [
    {
     "ename": "AttributeError",
     "evalue": "'list' object has no attribute 'lower'",
     "output_type": "error",
     "traceback": [
      "\u001b[1;31m---------------------------------------------------------------------------\u001b[0m",
      "\u001b[1;31mAttributeError\u001b[0m                            Traceback (most recent call last)",
      "\u001b[1;32m<ipython-input-70-f64f0471e91c>\u001b[0m in \u001b[0;36m<module>\u001b[1;34m\u001b[0m\n\u001b[0;32m      1\u001b[0m \u001b[0mtfidf2\u001b[0m\u001b[1;33m=\u001b[0m\u001b[0mTfidfVectorizer\u001b[0m\u001b[1;33m(\u001b[0m\u001b[0mngram_range\u001b[0m\u001b[1;33m=\u001b[0m\u001b[1;33m(\u001b[0m\u001b[1;36m2\u001b[0m\u001b[1;33m,\u001b[0m\u001b[1;36m2\u001b[0m\u001b[1;33m)\u001b[0m\u001b[1;33m)\u001b[0m\u001b[1;33m\u001b[0m\u001b[1;33m\u001b[0m\u001b[0m\n\u001b[0;32m      2\u001b[0m \u001b[0mdata_sample\u001b[0m\u001b[1;33m=\u001b[0m \u001b[0mdata\u001b[0m\u001b[1;33m[\u001b[0m\u001b[1;36m0\u001b[0m\u001b[1;33m:\u001b[0m\u001b[1;36m10\u001b[0m\u001b[1;33m]\u001b[0m\u001b[1;33m\u001b[0m\u001b[1;33m\u001b[0m\u001b[0m\n\u001b[1;32m----> 3\u001b[1;33m \u001b[0mval\u001b[0m \u001b[1;33m=\u001b[0m\u001b[0mtfidf2\u001b[0m\u001b[1;33m.\u001b[0m\u001b[0mfit_transform\u001b[0m\u001b[1;33m(\u001b[0m\u001b[0mdata_sample\u001b[0m\u001b[1;33m[\u001b[0m\u001b[1;34m'data_steammed'\u001b[0m\u001b[1;33m]\u001b[0m\u001b[1;33m)\u001b[0m\u001b[1;33m\u001b[0m\u001b[1;33m\u001b[0m\u001b[0m\n\u001b[0m",
      "\u001b[1;32m~\\anaconda3\\lib\\site-packages\\sklearn\\feature_extraction\\text.py\u001b[0m in \u001b[0;36mfit_transform\u001b[1;34m(self, raw_documents, y)\u001b[0m\n\u001b[0;32m   1857\u001b[0m         \"\"\"\n\u001b[0;32m   1858\u001b[0m         \u001b[0mself\u001b[0m\u001b[1;33m.\u001b[0m\u001b[0m_check_params\u001b[0m\u001b[1;33m(\u001b[0m\u001b[1;33m)\u001b[0m\u001b[1;33m\u001b[0m\u001b[1;33m\u001b[0m\u001b[0m\n\u001b[1;32m-> 1859\u001b[1;33m         \u001b[0mX\u001b[0m \u001b[1;33m=\u001b[0m \u001b[0msuper\u001b[0m\u001b[1;33m(\u001b[0m\u001b[1;33m)\u001b[0m\u001b[1;33m.\u001b[0m\u001b[0mfit_transform\u001b[0m\u001b[1;33m(\u001b[0m\u001b[0mraw_documents\u001b[0m\u001b[1;33m)\u001b[0m\u001b[1;33m\u001b[0m\u001b[1;33m\u001b[0m\u001b[0m\n\u001b[0m\u001b[0;32m   1860\u001b[0m         \u001b[0mself\u001b[0m\u001b[1;33m.\u001b[0m\u001b[0m_tfidf\u001b[0m\u001b[1;33m.\u001b[0m\u001b[0mfit\u001b[0m\u001b[1;33m(\u001b[0m\u001b[0mX\u001b[0m\u001b[1;33m)\u001b[0m\u001b[1;33m\u001b[0m\u001b[1;33m\u001b[0m\u001b[0m\n\u001b[0;32m   1861\u001b[0m         \u001b[1;31m# X is already a transformed view of raw_documents so\u001b[0m\u001b[1;33m\u001b[0m\u001b[1;33m\u001b[0m\u001b[1;33m\u001b[0m\u001b[0m\n",
      "\u001b[1;32m~\\anaconda3\\lib\\site-packages\\sklearn\\feature_extraction\\text.py\u001b[0m in \u001b[0;36mfit_transform\u001b[1;34m(self, raw_documents, y)\u001b[0m\n\u001b[0;32m   1218\u001b[0m \u001b[1;33m\u001b[0m\u001b[0m\n\u001b[0;32m   1219\u001b[0m         vocabulary, X = self._count_vocab(raw_documents,\n\u001b[1;32m-> 1220\u001b[1;33m                                           self.fixed_vocabulary_)\n\u001b[0m\u001b[0;32m   1221\u001b[0m \u001b[1;33m\u001b[0m\u001b[0m\n\u001b[0;32m   1222\u001b[0m         \u001b[1;32mif\u001b[0m \u001b[0mself\u001b[0m\u001b[1;33m.\u001b[0m\u001b[0mbinary\u001b[0m\u001b[1;33m:\u001b[0m\u001b[1;33m\u001b[0m\u001b[1;33m\u001b[0m\u001b[0m\n",
      "\u001b[1;32m~\\anaconda3\\lib\\site-packages\\sklearn\\feature_extraction\\text.py\u001b[0m in \u001b[0;36m_count_vocab\u001b[1;34m(self, raw_documents, fixed_vocab)\u001b[0m\n\u001b[0;32m   1129\u001b[0m         \u001b[1;32mfor\u001b[0m \u001b[0mdoc\u001b[0m \u001b[1;32min\u001b[0m \u001b[0mraw_documents\u001b[0m\u001b[1;33m:\u001b[0m\u001b[1;33m\u001b[0m\u001b[1;33m\u001b[0m\u001b[0m\n\u001b[0;32m   1130\u001b[0m             \u001b[0mfeature_counter\u001b[0m \u001b[1;33m=\u001b[0m \u001b[1;33m{\u001b[0m\u001b[1;33m}\u001b[0m\u001b[1;33m\u001b[0m\u001b[1;33m\u001b[0m\u001b[0m\n\u001b[1;32m-> 1131\u001b[1;33m             \u001b[1;32mfor\u001b[0m \u001b[0mfeature\u001b[0m \u001b[1;32min\u001b[0m \u001b[0manalyze\u001b[0m\u001b[1;33m(\u001b[0m\u001b[0mdoc\u001b[0m\u001b[1;33m)\u001b[0m\u001b[1;33m:\u001b[0m\u001b[1;33m\u001b[0m\u001b[1;33m\u001b[0m\u001b[0m\n\u001b[0m\u001b[0;32m   1132\u001b[0m                 \u001b[1;32mtry\u001b[0m\u001b[1;33m:\u001b[0m\u001b[1;33m\u001b[0m\u001b[1;33m\u001b[0m\u001b[0m\n\u001b[0;32m   1133\u001b[0m                     \u001b[0mfeature_idx\u001b[0m \u001b[1;33m=\u001b[0m \u001b[0mvocabulary\u001b[0m\u001b[1;33m[\u001b[0m\u001b[0mfeature\u001b[0m\u001b[1;33m]\u001b[0m\u001b[1;33m\u001b[0m\u001b[1;33m\u001b[0m\u001b[0m\n",
      "\u001b[1;32m~\\anaconda3\\lib\\site-packages\\sklearn\\feature_extraction\\text.py\u001b[0m in \u001b[0;36m_analyze\u001b[1;34m(doc, analyzer, tokenizer, ngrams, preprocessor, decoder, stop_words)\u001b[0m\n\u001b[0;32m    101\u001b[0m     \u001b[1;32melse\u001b[0m\u001b[1;33m:\u001b[0m\u001b[1;33m\u001b[0m\u001b[1;33m\u001b[0m\u001b[0m\n\u001b[0;32m    102\u001b[0m         \u001b[1;32mif\u001b[0m \u001b[0mpreprocessor\u001b[0m \u001b[1;32mis\u001b[0m \u001b[1;32mnot\u001b[0m \u001b[1;32mNone\u001b[0m\u001b[1;33m:\u001b[0m\u001b[1;33m\u001b[0m\u001b[1;33m\u001b[0m\u001b[0m\n\u001b[1;32m--> 103\u001b[1;33m             \u001b[0mdoc\u001b[0m \u001b[1;33m=\u001b[0m \u001b[0mpreprocessor\u001b[0m\u001b[1;33m(\u001b[0m\u001b[0mdoc\u001b[0m\u001b[1;33m)\u001b[0m\u001b[1;33m\u001b[0m\u001b[1;33m\u001b[0m\u001b[0m\n\u001b[0m\u001b[0;32m    104\u001b[0m         \u001b[1;32mif\u001b[0m \u001b[0mtokenizer\u001b[0m \u001b[1;32mis\u001b[0m \u001b[1;32mnot\u001b[0m \u001b[1;32mNone\u001b[0m\u001b[1;33m:\u001b[0m\u001b[1;33m\u001b[0m\u001b[1;33m\u001b[0m\u001b[0m\n\u001b[0;32m    105\u001b[0m             \u001b[0mdoc\u001b[0m \u001b[1;33m=\u001b[0m \u001b[0mtokenizer\u001b[0m\u001b[1;33m(\u001b[0m\u001b[0mdoc\u001b[0m\u001b[1;33m)\u001b[0m\u001b[1;33m\u001b[0m\u001b[1;33m\u001b[0m\u001b[0m\n",
      "\u001b[1;32m~\\anaconda3\\lib\\site-packages\\sklearn\\feature_extraction\\text.py\u001b[0m in \u001b[0;36m_preprocess\u001b[1;34m(doc, accent_function, lower)\u001b[0m\n\u001b[0;32m     66\u001b[0m     \"\"\"\n\u001b[0;32m     67\u001b[0m     \u001b[1;32mif\u001b[0m \u001b[0mlower\u001b[0m\u001b[1;33m:\u001b[0m\u001b[1;33m\u001b[0m\u001b[1;33m\u001b[0m\u001b[0m\n\u001b[1;32m---> 68\u001b[1;33m         \u001b[0mdoc\u001b[0m \u001b[1;33m=\u001b[0m \u001b[0mdoc\u001b[0m\u001b[1;33m.\u001b[0m\u001b[0mlower\u001b[0m\u001b[1;33m(\u001b[0m\u001b[1;33m)\u001b[0m\u001b[1;33m\u001b[0m\u001b[1;33m\u001b[0m\u001b[0m\n\u001b[0m\u001b[0;32m     69\u001b[0m     \u001b[1;32mif\u001b[0m \u001b[0maccent_function\u001b[0m \u001b[1;32mis\u001b[0m \u001b[1;32mnot\u001b[0m \u001b[1;32mNone\u001b[0m\u001b[1;33m:\u001b[0m\u001b[1;33m\u001b[0m\u001b[1;33m\u001b[0m\u001b[0m\n\u001b[0;32m     70\u001b[0m         \u001b[0mdoc\u001b[0m \u001b[1;33m=\u001b[0m \u001b[0maccent_function\u001b[0m\u001b[1;33m(\u001b[0m\u001b[0mdoc\u001b[0m\u001b[1;33m)\u001b[0m\u001b[1;33m\u001b[0m\u001b[1;33m\u001b[0m\u001b[0m\n",
      "\u001b[1;31mAttributeError\u001b[0m: 'list' object has no attribute 'lower'"
     ]
    }
   ],
   "source": [
    "tfidf2=TfidfVectorizer(ngram_range=(2,2))\n",
    "data_sample= data[0:10]\n",
    "val =tfidf2.fit_transform(data_sample['data_steammed'])"
   ]
  },
  {
   "cell_type": "code",
   "execution_count": 69,
   "metadata": {},
   "outputs": [
    {
     "ename": "NameError",
     "evalue": "name 'val' is not defined",
     "output_type": "error",
     "traceback": [
      "\u001b[1;31m---------------------------------------------------------------------------\u001b[0m",
      "\u001b[1;31mNameError\u001b[0m                                 Traceback (most recent call last)",
      "\u001b[1;32m<ipython-input-69-6a0e8177cfd5>\u001b[0m in \u001b[0;36m<module>\u001b[1;34m\u001b[0m\n\u001b[1;32m----> 1\u001b[1;33m \u001b[0mdata_frame\u001b[0m\u001b[1;33m=\u001b[0m\u001b[0mpd\u001b[0m\u001b[1;33m.\u001b[0m\u001b[0mDataFrame\u001b[0m\u001b[1;33m(\u001b[0m\u001b[0mval\u001b[0m\u001b[1;33m.\u001b[0m\u001b[0mtoarray\u001b[0m\u001b[1;33m(\u001b[0m\u001b[1;33m)\u001b[0m\u001b[1;33m,\u001b[0m \u001b[0mcolumns\u001b[0m\u001b[1;33m=\u001b[0m\u001b[0mtfidf2\u001b[0m\u001b[1;33m.\u001b[0m\u001b[0mget_feature_names\u001b[0m\u001b[1;33m(\u001b[0m\u001b[1;33m)\u001b[0m\u001b[1;33m)\u001b[0m\u001b[1;33m\u001b[0m\u001b[1;33m\u001b[0m\u001b[0m\n\u001b[0m\u001b[0;32m      2\u001b[0m \u001b[0mdata_frame\u001b[0m\u001b[1;33m.\u001b[0m\u001b[0mhead\u001b[0m\u001b[1;33m(\u001b[0m\u001b[1;36m10\u001b[0m\u001b[1;33m)\u001b[0m\u001b[1;33m\u001b[0m\u001b[1;33m\u001b[0m\u001b[0m\n",
      "\u001b[1;31mNameError\u001b[0m: name 'val' is not defined"
     ]
    }
   ],
   "source": [
    "data_frame=pd.DataFrame(val.toarray(), columns=tfidf2.get_feature_names())\n",
    "data_frame.head(10)"
   ]
  },
  {
   "cell_type": "markdown",
   "metadata": {},
   "source": [
    "# Cosine Simililerity"
   ]
  },
  {
   "cell_type": "code",
   "execution_count": 28,
   "metadata": {},
   "outputs": [],
   "source": [
    "from sklearn.metrics.pairwise import cosine_similarity"
   ]
  },
  {
   "cell_type": "code",
   "execution_count": 29,
   "metadata": {
    "scrolled": true
   },
   "outputs": [
    {
     "data": {
      "text/plain": [
       "array([[1.        , 0.06255718, 0.        , 0.06338225, 0.        ,\n",
       "        0.        , 0.        , 0.        , 0.        , 0.        ],\n",
       "       [0.06255718, 1.        , 0.        , 0.        , 0.        ,\n",
       "        0.        , 0.        , 0.        , 0.        , 0.        ],\n",
       "       [0.        , 0.        , 1.        , 0.06828406, 0.        ,\n",
       "        0.        , 0.        , 0.        , 0.        , 0.        ],\n",
       "       [0.06338225, 0.        , 0.06828406, 1.        , 0.        ,\n",
       "        0.        , 0.        , 0.        , 0.        , 0.        ],\n",
       "       [0.        , 0.        , 0.        , 0.        , 1.        ,\n",
       "        0.        , 0.        , 0.        , 0.        , 0.        ],\n",
       "       [0.        , 0.        , 0.        , 0.        , 0.        ,\n",
       "        1.        , 0.        , 0.        , 0.        , 0.        ],\n",
       "       [0.        , 0.        , 0.        , 0.        , 0.        ,\n",
       "        0.        , 1.        , 0.        , 0.        , 0.        ],\n",
       "       [0.        , 0.        , 0.        , 0.        , 0.        ,\n",
       "        0.        , 0.        , 1.        , 0.        , 0.        ],\n",
       "       [0.        , 0.        , 0.        , 0.        , 0.        ,\n",
       "        0.        , 0.        , 0.        , 1.        , 0.        ],\n",
       "       [0.        , 0.        , 0.        , 0.        , 0.        ,\n",
       "        0.        , 0.        , 0.        , 0.        , 1.        ]])"
      ]
     },
     "execution_count": 29,
     "metadata": {},
     "output_type": "execute_result"
    }
   ],
   "source": [
    "cosine_similarity(data_frame)"
   ]
  },
  {
   "cell_type": "markdown",
   "metadata": {},
   "source": [
    "# Chi-Square Test "
   ]
  },
  {
   "cell_type": "code",
   "execution_count": 30,
   "metadata": {},
   "outputs": [],
   "source": [
    "#  crossValues=pd.crosstab(data_frame, data['Severity'])"
   ]
  },
  {
   "cell_type": "code",
   "execution_count": 31,
   "metadata": {},
   "outputs": [],
   "source": [
    "# crossValues"
   ]
  },
  {
   "cell_type": "code",
   "execution_count": 32,
   "metadata": {},
   "outputs": [],
   "source": [
    "observeed_value= data_frame1.values"
   ]
  },
  {
   "cell_type": "code",
   "execution_count": 33,
   "metadata": {},
   "outputs": [
    {
     "data": {
      "text/plain": [
       "array([[0, 0, 0, 1, 0, 0, 0, 0, 0, 0, 0, 0, 0, 1, 0, 0, 0, 1, 0, 0, 0, 0,\n",
       "        0, 0, 0, 0, 0, 1, 0, 0, 0, 0, 0, 1, 0, 0, 0, 0, 0, 0, 0, 0, 0, 0,\n",
       "        0, 0, 1, 0, 0, 0, 0, 0, 1, 0, 0],\n",
       "       [1, 0, 0, 1, 0, 0, 0, 0, 0, 0, 1, 0, 0, 0, 1, 0, 0, 0, 0, 0, 0, 0,\n",
       "        0, 1, 0, 0, 0, 0, 0, 0, 0, 0, 0, 0, 0, 0, 0, 0, 0, 0, 0, 0, 0, 0,\n",
       "        0, 0, 0, 0, 0, 0, 1, 0, 0, 0, 0],\n",
       "       [0, 0, 0, 2, 0, 0, 0, 0, 0, 0, 0, 0, 1, 0, 0, 0, 0, 1, 0, 0, 0, 1,\n",
       "        0, 0, 0, 0, 1, 0, 0, 1, 1, 0, 0, 0, 0, 0, 0, 0, 0, 0, 0, 0, 0, 0,\n",
       "        0, 0, 0, 0, 0, 0, 0, 0, 0, 0, 0],\n",
       "       [0, 0, 1, 1, 0, 0, 1, 0, 0, 0, 0, 1, 0, 0, 0, 0, 0, 1, 0, 0, 0, 0,\n",
       "        0, 0, 0, 0, 0, 0, 0, 0, 0, 0, 0, 0, 0, 1, 0, 0, 1, 0, 0, 0, 0, 0,\n",
       "        0, 0, 1, 0, 0, 0, 0, 0, 1, 0, 0],\n",
       "       [0, 1, 0, 2, 0, 0, 0, 0, 0, 0, 0, 0, 0, 0, 0, 0, 0, 0, 0, 0, 0, 0,\n",
       "        0, 0, 0, 0, 0, 0, 0, 0, 0, 1, 1, 0, 0, 0, 0, 0, 0, 0, 0, 0, 0, 0,\n",
       "        1, 0, 0, 0, 1, 0, 0, 0, 0, 0, 0],\n",
       "       [0, 0, 0, 1, 0, 0, 0, 0, 0, 0, 0, 0, 0, 0, 0, 0, 1, 0, 0, 1, 0, 0,\n",
       "        0, 0, 0, 0, 0, 0, 0, 0, 0, 0, 0, 1, 0, 0, 0, 0, 0, 0, 0, 0, 0, 0,\n",
       "        0, 0, 0, 0, 0, 0, 0, 1, 0, 0, 1],\n",
       "       [0, 0, 0, 1, 0, 0, 0, 0, 0, 0, 0, 0, 0, 0, 0, 0, 0, 0, 0, 0, 0, 0,\n",
       "        0, 0, 1, 0, 0, 0, 0, 0, 0, 0, 0, 0, 0, 0, 1, 0, 0, 1, 0, 0, 0, 1,\n",
       "        0, 1, 0, 0, 0, 0, 0, 0, 0, 1, 0],\n",
       "       [0, 0, 0, 1, 0, 1, 0, 0, 0, 0, 0, 0, 0, 0, 0, 0, 0, 0, 0, 0, 0, 0,\n",
       "        0, 0, 0, 0, 0, 0, 1, 0, 0, 0, 0, 0, 0, 0, 0, 1, 0, 0, 0, 1, 1, 0,\n",
       "        0, 0, 0, 1, 0, 1, 0, 0, 0, 0, 0],\n",
       "       [0, 0, 0, 0, 1, 0, 0, 1, 2, 1, 0, 0, 0, 0, 0, 0, 0, 1, 0, 0, 0, 0,\n",
       "        1, 0, 0, 1, 0, 0, 0, 0, 0, 0, 0, 0, 0, 0, 0, 0, 0, 0, 1, 0, 0, 0,\n",
       "        0, 0, 0, 0, 0, 0, 0, 0, 0, 0, 0],\n",
       "       [0, 0, 0, 1, 0, 0, 0, 0, 0, 0, 0, 0, 0, 0, 0, 1, 0, 1, 1, 0, 1, 0,\n",
       "        0, 0, 0, 0, 0, 0, 0, 0, 0, 0, 0, 0, 1, 0, 0, 0, 0, 0, 0, 0, 0, 0,\n",
       "        0, 0, 0, 0, 0, 0, 0, 0, 0, 0, 0]], dtype=int64)"
      ]
     },
     "execution_count": 33,
     "metadata": {},
     "output_type": "execute_result"
    }
   ],
   "source": [
    "observeed_value"
   ]
  },
  {
   "cell_type": "code",
   "execution_count": 34,
   "metadata": {},
   "outputs": [],
   "source": [
    "from scipy import stats\n",
    "chi2= stats.chi2_contingency(data_frame1)"
   ]
  },
  {
   "cell_type": "code",
   "execution_count": 35,
   "metadata": {},
   "outputs": [
    {
     "data": {
      "text/plain": [
       "(488.9999278499279,\n",
       " 0.4532715656609107,\n",
       " 486,\n",
       " array([[0.09589041, 0.09589041, 0.09589041, 1.05479452, 0.09589041,\n",
       "         0.09589041, 0.09589041, 0.09589041, 0.19178082, 0.09589041,\n",
       "         0.09589041, 0.09589041, 0.09589041, 0.09589041, 0.09589041,\n",
       "         0.09589041, 0.09589041, 0.47945205, 0.09589041, 0.09589041,\n",
       "         0.09589041, 0.09589041, 0.09589041, 0.09589041, 0.09589041,\n",
       "         0.09589041, 0.09589041, 0.09589041, 0.09589041, 0.09589041,\n",
       "         0.09589041, 0.09589041, 0.09589041, 0.19178082, 0.09589041,\n",
       "         0.09589041, 0.09589041, 0.09589041, 0.09589041, 0.09589041,\n",
       "         0.09589041, 0.09589041, 0.09589041, 0.09589041, 0.09589041,\n",
       "         0.09589041, 0.19178082, 0.09589041, 0.09589041, 0.09589041,\n",
       "         0.09589041, 0.09589041, 0.19178082, 0.09589041, 0.09589041],\n",
       "        [0.08219178, 0.08219178, 0.08219178, 0.90410959, 0.08219178,\n",
       "         0.08219178, 0.08219178, 0.08219178, 0.16438356, 0.08219178,\n",
       "         0.08219178, 0.08219178, 0.08219178, 0.08219178, 0.08219178,\n",
       "         0.08219178, 0.08219178, 0.4109589 , 0.08219178, 0.08219178,\n",
       "         0.08219178, 0.08219178, 0.08219178, 0.08219178, 0.08219178,\n",
       "         0.08219178, 0.08219178, 0.08219178, 0.08219178, 0.08219178,\n",
       "         0.08219178, 0.08219178, 0.08219178, 0.16438356, 0.08219178,\n",
       "         0.08219178, 0.08219178, 0.08219178, 0.08219178, 0.08219178,\n",
       "         0.08219178, 0.08219178, 0.08219178, 0.08219178, 0.08219178,\n",
       "         0.08219178, 0.16438356, 0.08219178, 0.08219178, 0.08219178,\n",
       "         0.08219178, 0.08219178, 0.16438356, 0.08219178, 0.08219178],\n",
       "        [0.10958904, 0.10958904, 0.10958904, 1.20547945, 0.10958904,\n",
       "         0.10958904, 0.10958904, 0.10958904, 0.21917808, 0.10958904,\n",
       "         0.10958904, 0.10958904, 0.10958904, 0.10958904, 0.10958904,\n",
       "         0.10958904, 0.10958904, 0.54794521, 0.10958904, 0.10958904,\n",
       "         0.10958904, 0.10958904, 0.10958904, 0.10958904, 0.10958904,\n",
       "         0.10958904, 0.10958904, 0.10958904, 0.10958904, 0.10958904,\n",
       "         0.10958904, 0.10958904, 0.10958904, 0.21917808, 0.10958904,\n",
       "         0.10958904, 0.10958904, 0.10958904, 0.10958904, 0.10958904,\n",
       "         0.10958904, 0.10958904, 0.10958904, 0.10958904, 0.10958904,\n",
       "         0.10958904, 0.21917808, 0.10958904, 0.10958904, 0.10958904,\n",
       "         0.10958904, 0.10958904, 0.21917808, 0.10958904, 0.10958904],\n",
       "        [0.12328767, 0.12328767, 0.12328767, 1.35616438, 0.12328767,\n",
       "         0.12328767, 0.12328767, 0.12328767, 0.24657534, 0.12328767,\n",
       "         0.12328767, 0.12328767, 0.12328767, 0.12328767, 0.12328767,\n",
       "         0.12328767, 0.12328767, 0.61643836, 0.12328767, 0.12328767,\n",
       "         0.12328767, 0.12328767, 0.12328767, 0.12328767, 0.12328767,\n",
       "         0.12328767, 0.12328767, 0.12328767, 0.12328767, 0.12328767,\n",
       "         0.12328767, 0.12328767, 0.12328767, 0.24657534, 0.12328767,\n",
       "         0.12328767, 0.12328767, 0.12328767, 0.12328767, 0.12328767,\n",
       "         0.12328767, 0.12328767, 0.12328767, 0.12328767, 0.12328767,\n",
       "         0.12328767, 0.24657534, 0.12328767, 0.12328767, 0.12328767,\n",
       "         0.12328767, 0.12328767, 0.24657534, 0.12328767, 0.12328767],\n",
       "        [0.09589041, 0.09589041, 0.09589041, 1.05479452, 0.09589041,\n",
       "         0.09589041, 0.09589041, 0.09589041, 0.19178082, 0.09589041,\n",
       "         0.09589041, 0.09589041, 0.09589041, 0.09589041, 0.09589041,\n",
       "         0.09589041, 0.09589041, 0.47945205, 0.09589041, 0.09589041,\n",
       "         0.09589041, 0.09589041, 0.09589041, 0.09589041, 0.09589041,\n",
       "         0.09589041, 0.09589041, 0.09589041, 0.09589041, 0.09589041,\n",
       "         0.09589041, 0.09589041, 0.09589041, 0.19178082, 0.09589041,\n",
       "         0.09589041, 0.09589041, 0.09589041, 0.09589041, 0.09589041,\n",
       "         0.09589041, 0.09589041, 0.09589041, 0.09589041, 0.09589041,\n",
       "         0.09589041, 0.19178082, 0.09589041, 0.09589041, 0.09589041,\n",
       "         0.09589041, 0.09589041, 0.19178082, 0.09589041, 0.09589041],\n",
       "        [0.08219178, 0.08219178, 0.08219178, 0.90410959, 0.08219178,\n",
       "         0.08219178, 0.08219178, 0.08219178, 0.16438356, 0.08219178,\n",
       "         0.08219178, 0.08219178, 0.08219178, 0.08219178, 0.08219178,\n",
       "         0.08219178, 0.08219178, 0.4109589 , 0.08219178, 0.08219178,\n",
       "         0.08219178, 0.08219178, 0.08219178, 0.08219178, 0.08219178,\n",
       "         0.08219178, 0.08219178, 0.08219178, 0.08219178, 0.08219178,\n",
       "         0.08219178, 0.08219178, 0.08219178, 0.16438356, 0.08219178,\n",
       "         0.08219178, 0.08219178, 0.08219178, 0.08219178, 0.08219178,\n",
       "         0.08219178, 0.08219178, 0.08219178, 0.08219178, 0.08219178,\n",
       "         0.08219178, 0.16438356, 0.08219178, 0.08219178, 0.08219178,\n",
       "         0.08219178, 0.08219178, 0.16438356, 0.08219178, 0.08219178],\n",
       "        [0.09589041, 0.09589041, 0.09589041, 1.05479452, 0.09589041,\n",
       "         0.09589041, 0.09589041, 0.09589041, 0.19178082, 0.09589041,\n",
       "         0.09589041, 0.09589041, 0.09589041, 0.09589041, 0.09589041,\n",
       "         0.09589041, 0.09589041, 0.47945205, 0.09589041, 0.09589041,\n",
       "         0.09589041, 0.09589041, 0.09589041, 0.09589041, 0.09589041,\n",
       "         0.09589041, 0.09589041, 0.09589041, 0.09589041, 0.09589041,\n",
       "         0.09589041, 0.09589041, 0.09589041, 0.19178082, 0.09589041,\n",
       "         0.09589041, 0.09589041, 0.09589041, 0.09589041, 0.09589041,\n",
       "         0.09589041, 0.09589041, 0.09589041, 0.09589041, 0.09589041,\n",
       "         0.09589041, 0.19178082, 0.09589041, 0.09589041, 0.09589041,\n",
       "         0.09589041, 0.09589041, 0.19178082, 0.09589041, 0.09589041],\n",
       "        [0.10958904, 0.10958904, 0.10958904, 1.20547945, 0.10958904,\n",
       "         0.10958904, 0.10958904, 0.10958904, 0.21917808, 0.10958904,\n",
       "         0.10958904, 0.10958904, 0.10958904, 0.10958904, 0.10958904,\n",
       "         0.10958904, 0.10958904, 0.54794521, 0.10958904, 0.10958904,\n",
       "         0.10958904, 0.10958904, 0.10958904, 0.10958904, 0.10958904,\n",
       "         0.10958904, 0.10958904, 0.10958904, 0.10958904, 0.10958904,\n",
       "         0.10958904, 0.10958904, 0.10958904, 0.21917808, 0.10958904,\n",
       "         0.10958904, 0.10958904, 0.10958904, 0.10958904, 0.10958904,\n",
       "         0.10958904, 0.10958904, 0.10958904, 0.10958904, 0.10958904,\n",
       "         0.10958904, 0.21917808, 0.10958904, 0.10958904, 0.10958904,\n",
       "         0.10958904, 0.10958904, 0.21917808, 0.10958904, 0.10958904],\n",
       "        [0.12328767, 0.12328767, 0.12328767, 1.35616438, 0.12328767,\n",
       "         0.12328767, 0.12328767, 0.12328767, 0.24657534, 0.12328767,\n",
       "         0.12328767, 0.12328767, 0.12328767, 0.12328767, 0.12328767,\n",
       "         0.12328767, 0.12328767, 0.61643836, 0.12328767, 0.12328767,\n",
       "         0.12328767, 0.12328767, 0.12328767, 0.12328767, 0.12328767,\n",
       "         0.12328767, 0.12328767, 0.12328767, 0.12328767, 0.12328767,\n",
       "         0.12328767, 0.12328767, 0.12328767, 0.24657534, 0.12328767,\n",
       "         0.12328767, 0.12328767, 0.12328767, 0.12328767, 0.12328767,\n",
       "         0.12328767, 0.12328767, 0.12328767, 0.12328767, 0.12328767,\n",
       "         0.12328767, 0.24657534, 0.12328767, 0.12328767, 0.12328767,\n",
       "         0.12328767, 0.12328767, 0.24657534, 0.12328767, 0.12328767],\n",
       "        [0.08219178, 0.08219178, 0.08219178, 0.90410959, 0.08219178,\n",
       "         0.08219178, 0.08219178, 0.08219178, 0.16438356, 0.08219178,\n",
       "         0.08219178, 0.08219178, 0.08219178, 0.08219178, 0.08219178,\n",
       "         0.08219178, 0.08219178, 0.4109589 , 0.08219178, 0.08219178,\n",
       "         0.08219178, 0.08219178, 0.08219178, 0.08219178, 0.08219178,\n",
       "         0.08219178, 0.08219178, 0.08219178, 0.08219178, 0.08219178,\n",
       "         0.08219178, 0.08219178, 0.08219178, 0.16438356, 0.08219178,\n",
       "         0.08219178, 0.08219178, 0.08219178, 0.08219178, 0.08219178,\n",
       "         0.08219178, 0.08219178, 0.08219178, 0.08219178, 0.08219178,\n",
       "         0.08219178, 0.16438356, 0.08219178, 0.08219178, 0.08219178,\n",
       "         0.08219178, 0.08219178, 0.16438356, 0.08219178, 0.08219178]]))"
      ]
     },
     "execution_count": 35,
     "metadata": {},
     "output_type": "execute_result"
    }
   ],
   "source": [
    "chi2"
   ]
  },
  {
   "cell_type": "code",
   "execution_count": 36,
   "metadata": {},
   "outputs": [],
   "source": [
    "expected_vlue=chi2[3]"
   ]
  },
  {
   "cell_type": "code",
   "execution_count": 37,
   "metadata": {},
   "outputs": [
    {
     "data": {
      "text/plain": [
       "array([[0.09589041, 0.09589041, 0.09589041, 1.05479452, 0.09589041,\n",
       "        0.09589041, 0.09589041, 0.09589041, 0.19178082, 0.09589041,\n",
       "        0.09589041, 0.09589041, 0.09589041, 0.09589041, 0.09589041,\n",
       "        0.09589041, 0.09589041, 0.47945205, 0.09589041, 0.09589041,\n",
       "        0.09589041, 0.09589041, 0.09589041, 0.09589041, 0.09589041,\n",
       "        0.09589041, 0.09589041, 0.09589041, 0.09589041, 0.09589041,\n",
       "        0.09589041, 0.09589041, 0.09589041, 0.19178082, 0.09589041,\n",
       "        0.09589041, 0.09589041, 0.09589041, 0.09589041, 0.09589041,\n",
       "        0.09589041, 0.09589041, 0.09589041, 0.09589041, 0.09589041,\n",
       "        0.09589041, 0.19178082, 0.09589041, 0.09589041, 0.09589041,\n",
       "        0.09589041, 0.09589041, 0.19178082, 0.09589041, 0.09589041],\n",
       "       [0.08219178, 0.08219178, 0.08219178, 0.90410959, 0.08219178,\n",
       "        0.08219178, 0.08219178, 0.08219178, 0.16438356, 0.08219178,\n",
       "        0.08219178, 0.08219178, 0.08219178, 0.08219178, 0.08219178,\n",
       "        0.08219178, 0.08219178, 0.4109589 , 0.08219178, 0.08219178,\n",
       "        0.08219178, 0.08219178, 0.08219178, 0.08219178, 0.08219178,\n",
       "        0.08219178, 0.08219178, 0.08219178, 0.08219178, 0.08219178,\n",
       "        0.08219178, 0.08219178, 0.08219178, 0.16438356, 0.08219178,\n",
       "        0.08219178, 0.08219178, 0.08219178, 0.08219178, 0.08219178,\n",
       "        0.08219178, 0.08219178, 0.08219178, 0.08219178, 0.08219178,\n",
       "        0.08219178, 0.16438356, 0.08219178, 0.08219178, 0.08219178,\n",
       "        0.08219178, 0.08219178, 0.16438356, 0.08219178, 0.08219178],\n",
       "       [0.10958904, 0.10958904, 0.10958904, 1.20547945, 0.10958904,\n",
       "        0.10958904, 0.10958904, 0.10958904, 0.21917808, 0.10958904,\n",
       "        0.10958904, 0.10958904, 0.10958904, 0.10958904, 0.10958904,\n",
       "        0.10958904, 0.10958904, 0.54794521, 0.10958904, 0.10958904,\n",
       "        0.10958904, 0.10958904, 0.10958904, 0.10958904, 0.10958904,\n",
       "        0.10958904, 0.10958904, 0.10958904, 0.10958904, 0.10958904,\n",
       "        0.10958904, 0.10958904, 0.10958904, 0.21917808, 0.10958904,\n",
       "        0.10958904, 0.10958904, 0.10958904, 0.10958904, 0.10958904,\n",
       "        0.10958904, 0.10958904, 0.10958904, 0.10958904, 0.10958904,\n",
       "        0.10958904, 0.21917808, 0.10958904, 0.10958904, 0.10958904,\n",
       "        0.10958904, 0.10958904, 0.21917808, 0.10958904, 0.10958904],\n",
       "       [0.12328767, 0.12328767, 0.12328767, 1.35616438, 0.12328767,\n",
       "        0.12328767, 0.12328767, 0.12328767, 0.24657534, 0.12328767,\n",
       "        0.12328767, 0.12328767, 0.12328767, 0.12328767, 0.12328767,\n",
       "        0.12328767, 0.12328767, 0.61643836, 0.12328767, 0.12328767,\n",
       "        0.12328767, 0.12328767, 0.12328767, 0.12328767, 0.12328767,\n",
       "        0.12328767, 0.12328767, 0.12328767, 0.12328767, 0.12328767,\n",
       "        0.12328767, 0.12328767, 0.12328767, 0.24657534, 0.12328767,\n",
       "        0.12328767, 0.12328767, 0.12328767, 0.12328767, 0.12328767,\n",
       "        0.12328767, 0.12328767, 0.12328767, 0.12328767, 0.12328767,\n",
       "        0.12328767, 0.24657534, 0.12328767, 0.12328767, 0.12328767,\n",
       "        0.12328767, 0.12328767, 0.24657534, 0.12328767, 0.12328767],\n",
       "       [0.09589041, 0.09589041, 0.09589041, 1.05479452, 0.09589041,\n",
       "        0.09589041, 0.09589041, 0.09589041, 0.19178082, 0.09589041,\n",
       "        0.09589041, 0.09589041, 0.09589041, 0.09589041, 0.09589041,\n",
       "        0.09589041, 0.09589041, 0.47945205, 0.09589041, 0.09589041,\n",
       "        0.09589041, 0.09589041, 0.09589041, 0.09589041, 0.09589041,\n",
       "        0.09589041, 0.09589041, 0.09589041, 0.09589041, 0.09589041,\n",
       "        0.09589041, 0.09589041, 0.09589041, 0.19178082, 0.09589041,\n",
       "        0.09589041, 0.09589041, 0.09589041, 0.09589041, 0.09589041,\n",
       "        0.09589041, 0.09589041, 0.09589041, 0.09589041, 0.09589041,\n",
       "        0.09589041, 0.19178082, 0.09589041, 0.09589041, 0.09589041,\n",
       "        0.09589041, 0.09589041, 0.19178082, 0.09589041, 0.09589041],\n",
       "       [0.08219178, 0.08219178, 0.08219178, 0.90410959, 0.08219178,\n",
       "        0.08219178, 0.08219178, 0.08219178, 0.16438356, 0.08219178,\n",
       "        0.08219178, 0.08219178, 0.08219178, 0.08219178, 0.08219178,\n",
       "        0.08219178, 0.08219178, 0.4109589 , 0.08219178, 0.08219178,\n",
       "        0.08219178, 0.08219178, 0.08219178, 0.08219178, 0.08219178,\n",
       "        0.08219178, 0.08219178, 0.08219178, 0.08219178, 0.08219178,\n",
       "        0.08219178, 0.08219178, 0.08219178, 0.16438356, 0.08219178,\n",
       "        0.08219178, 0.08219178, 0.08219178, 0.08219178, 0.08219178,\n",
       "        0.08219178, 0.08219178, 0.08219178, 0.08219178, 0.08219178,\n",
       "        0.08219178, 0.16438356, 0.08219178, 0.08219178, 0.08219178,\n",
       "        0.08219178, 0.08219178, 0.16438356, 0.08219178, 0.08219178],\n",
       "       [0.09589041, 0.09589041, 0.09589041, 1.05479452, 0.09589041,\n",
       "        0.09589041, 0.09589041, 0.09589041, 0.19178082, 0.09589041,\n",
       "        0.09589041, 0.09589041, 0.09589041, 0.09589041, 0.09589041,\n",
       "        0.09589041, 0.09589041, 0.47945205, 0.09589041, 0.09589041,\n",
       "        0.09589041, 0.09589041, 0.09589041, 0.09589041, 0.09589041,\n",
       "        0.09589041, 0.09589041, 0.09589041, 0.09589041, 0.09589041,\n",
       "        0.09589041, 0.09589041, 0.09589041, 0.19178082, 0.09589041,\n",
       "        0.09589041, 0.09589041, 0.09589041, 0.09589041, 0.09589041,\n",
       "        0.09589041, 0.09589041, 0.09589041, 0.09589041, 0.09589041,\n",
       "        0.09589041, 0.19178082, 0.09589041, 0.09589041, 0.09589041,\n",
       "        0.09589041, 0.09589041, 0.19178082, 0.09589041, 0.09589041],\n",
       "       [0.10958904, 0.10958904, 0.10958904, 1.20547945, 0.10958904,\n",
       "        0.10958904, 0.10958904, 0.10958904, 0.21917808, 0.10958904,\n",
       "        0.10958904, 0.10958904, 0.10958904, 0.10958904, 0.10958904,\n",
       "        0.10958904, 0.10958904, 0.54794521, 0.10958904, 0.10958904,\n",
       "        0.10958904, 0.10958904, 0.10958904, 0.10958904, 0.10958904,\n",
       "        0.10958904, 0.10958904, 0.10958904, 0.10958904, 0.10958904,\n",
       "        0.10958904, 0.10958904, 0.10958904, 0.21917808, 0.10958904,\n",
       "        0.10958904, 0.10958904, 0.10958904, 0.10958904, 0.10958904,\n",
       "        0.10958904, 0.10958904, 0.10958904, 0.10958904, 0.10958904,\n",
       "        0.10958904, 0.21917808, 0.10958904, 0.10958904, 0.10958904,\n",
       "        0.10958904, 0.10958904, 0.21917808, 0.10958904, 0.10958904],\n",
       "       [0.12328767, 0.12328767, 0.12328767, 1.35616438, 0.12328767,\n",
       "        0.12328767, 0.12328767, 0.12328767, 0.24657534, 0.12328767,\n",
       "        0.12328767, 0.12328767, 0.12328767, 0.12328767, 0.12328767,\n",
       "        0.12328767, 0.12328767, 0.61643836, 0.12328767, 0.12328767,\n",
       "        0.12328767, 0.12328767, 0.12328767, 0.12328767, 0.12328767,\n",
       "        0.12328767, 0.12328767, 0.12328767, 0.12328767, 0.12328767,\n",
       "        0.12328767, 0.12328767, 0.12328767, 0.24657534, 0.12328767,\n",
       "        0.12328767, 0.12328767, 0.12328767, 0.12328767, 0.12328767,\n",
       "        0.12328767, 0.12328767, 0.12328767, 0.12328767, 0.12328767,\n",
       "        0.12328767, 0.24657534, 0.12328767, 0.12328767, 0.12328767,\n",
       "        0.12328767, 0.12328767, 0.24657534, 0.12328767, 0.12328767],\n",
       "       [0.08219178, 0.08219178, 0.08219178, 0.90410959, 0.08219178,\n",
       "        0.08219178, 0.08219178, 0.08219178, 0.16438356, 0.08219178,\n",
       "        0.08219178, 0.08219178, 0.08219178, 0.08219178, 0.08219178,\n",
       "        0.08219178, 0.08219178, 0.4109589 , 0.08219178, 0.08219178,\n",
       "        0.08219178, 0.08219178, 0.08219178, 0.08219178, 0.08219178,\n",
       "        0.08219178, 0.08219178, 0.08219178, 0.08219178, 0.08219178,\n",
       "        0.08219178, 0.08219178, 0.08219178, 0.16438356, 0.08219178,\n",
       "        0.08219178, 0.08219178, 0.08219178, 0.08219178, 0.08219178,\n",
       "        0.08219178, 0.08219178, 0.08219178, 0.08219178, 0.08219178,\n",
       "        0.08219178, 0.16438356, 0.08219178, 0.08219178, 0.08219178,\n",
       "        0.08219178, 0.08219178, 0.16438356, 0.08219178, 0.08219178]])"
      ]
     },
     "execution_count": 37,
     "metadata": {},
     "output_type": "execute_result"
    }
   ],
   "source": [
    "expected_vlue"
   ]
  },
  {
   "cell_type": "code",
   "execution_count": 38,
   "metadata": {},
   "outputs": [],
   "source": [
    "num_of_rows= len(data_frame2.iloc[0:2,0])\n",
    "num_of_columns= len(data_frame2.iloc[0,0:2])\n",
    "ddof=(num_of_rows-1)*(num_of_columns-1)\n",
    "alpha= 0.05"
   ]
  },
  {
   "cell_type": "code",
   "execution_count": 39,
   "metadata": {},
   "outputs": [
    {
     "data": {
      "text/plain": [
       "1"
      ]
     },
     "execution_count": 39,
     "metadata": {},
     "output_type": "execute_result"
    }
   ],
   "source": [
    "ddof"
   ]
  },
  {
   "cell_type": "code",
   "execution_count": 40,
   "metadata": {},
   "outputs": [],
   "source": [
    " from scipy.stats import chi2\n",
    "chi_square=sum([(o-e)**2./e for o,e in zip(observeed_value,expected_vlue)])\n",
    "chi_square_statistic=chi_square[0]+chi_square[1]"
   ]
  },
  {
   "cell_type": "code",
   "execution_count": 41,
   "metadata": {},
   "outputs": [
    {
     "data": {
      "text/plain": [
       "20.595238095238102"
      ]
     },
     "execution_count": 41,
     "metadata": {},
     "output_type": "execute_result"
    }
   ],
   "source": [
    "chi_square_statistic"
   ]
  },
  {
   "cell_type": "code",
   "execution_count": 42,
   "metadata": {},
   "outputs": [],
   "source": [
    "critical_value= chi2.ppf(q=1-alpha, df=ddof)"
   ]
  },
  {
   "cell_type": "code",
   "execution_count": 43,
   "metadata": {},
   "outputs": [
    {
     "data": {
      "text/plain": [
       "3.841458820694124"
      ]
     },
     "execution_count": 43,
     "metadata": {},
     "output_type": "execute_result"
    }
   ],
   "source": [
    "critical_value"
   ]
  },
  {
   "cell_type": "code",
   "execution_count": 44,
   "metadata": {},
   "outputs": [],
   "source": [
    "p_value= 1-chi2.cdf(chi_square_statistic, df=ddof)"
   ]
  },
  {
   "cell_type": "code",
   "execution_count": 45,
   "metadata": {},
   "outputs": [
    {
     "name": "stdout",
     "output_type": "stream",
     "text": [
      "P-Value 5.673706464759398e-06\n",
      "Significant level 0.05\n",
      "Degree of freedpom 1\n"
     ]
    }
   ],
   "source": [
    "print('P-Value', p_value)\n",
    "print('Significant level', alpha)\n",
    "print('Degree of freedpom', ddof)"
   ]
  },
  {
   "cell_type": "code",
   "execution_count": 46,
   "metadata": {},
   "outputs": [
    {
     "name": "stdout",
     "output_type": "stream",
     "text": [
      "Reject H0, There are a relationship between  this data frame\n",
      "Reject H0, There are a relationship between this data frame\n"
     ]
    }
   ],
   "source": [
    "if chi_square_statistic >=critical_value:\n",
    "    print(\"Reject H0, There are a relationship between  this data frame\")\n",
    "else:\n",
    "    print(\"retain H0, There are no relationship\")\n",
    "if p_value <=alpha:\n",
    "    print(\"Reject H0, There are a relationship between this data frame\")\n",
    "else:\n",
    "    print(\"retain H0, There are no relationship\")"
   ]
  },
  {
   "cell_type": "code",
   "execution_count": null,
   "metadata": {},
   "outputs": [],
   "source": []
  },
  {
   "cell_type": "code",
   "execution_count": 47,
   "metadata": {},
   "outputs": [],
   "source": [
    "import numpy as np\n",
    "import pandas as pd\n",
    "x = a\n",
    "y = b"
   ]
  },
  {
   "cell_type": "code",
   "execution_count": 48,
   "metadata": {},
   "outputs": [
    {
     "data": {
      "text/plain": [
       "((1142,), (1142,))"
      ]
     },
     "execution_count": 48,
     "metadata": {},
     "output_type": "execute_result"
    }
   ],
   "source": [
    "y.shape, x.shape"
   ]
  },
  {
   "cell_type": "code",
   "execution_count": 50,
   "metadata": {},
   "outputs": [],
   "source": [
    "# X_train, X_test, y_train, y_test = train_test_split(\n",
    "#     X, y, test_size=0.4, random_state=0)\n",
    "\n",
    "# X_train.shape, y_train.shape\n",
    "\n",
    "# X_test.shape, y_test.shape\n",
    "\n",
    "\n",
    "# clf = svm.SVC(kernel='linear', C=1).fit(X_train, y_train)\n",
    "# clf.score(X_test, y_test)"
   ]
  },
  {
   "cell_type": "markdown",
   "metadata": {},
   "source": [
    "# APply Naive bayes Algorithm"
   ]
  },
  {
   "cell_type": "code",
   "execution_count": 53,
   "metadata": {},
   "outputs": [],
   "source": [
    "from sklearn import datasets\n",
    "from sklearn import metrics\n",
    "from sklearn.naive_bayes import GaussianNB"
   ]
  },
  {
   "cell_type": "code",
   "execution_count": 77,
   "metadata": {},
   "outputs": [
    {
     "ename": "NameError",
     "evalue": "name 'targets' is not defined",
     "output_type": "error",
     "traceback": [
      "\u001b[1;31m---------------------------------------------------------------------------\u001b[0m",
      "\u001b[1;31mNameError\u001b[0m                                 Traceback (most recent call last)",
      "\u001b[1;32m<ipython-input-77-863a12927747>\u001b[0m in \u001b[0;36m<module>\u001b[1;34m\u001b[0m\n\u001b[0;32m      1\u001b[0m \u001b[1;31m# dataset=datasets.load_iris.data()\u001b[0m\u001b[1;33m\u001b[0m\u001b[1;33m\u001b[0m\u001b[1;33m\u001b[0m\u001b[0m\n\u001b[0;32m      2\u001b[0m \u001b[0mdata_frame\u001b[0m\u001b[1;33m[\u001b[0m\u001b[1;34m'is_train'\u001b[0m\u001b[1;33m]\u001b[0m \u001b[1;33m=\u001b[0m \u001b[0mnp\u001b[0m\u001b[1;33m.\u001b[0m\u001b[0mrandom\u001b[0m\u001b[1;33m.\u001b[0m\u001b[0muniform\u001b[0m\u001b[1;33m(\u001b[0m\u001b[1;36m0\u001b[0m\u001b[1;33m,\u001b[0m \u001b[1;36m1\u001b[0m\u001b[1;33m,\u001b[0m \u001b[0mlen\u001b[0m\u001b[1;33m(\u001b[0m\u001b[0mdata_frame\u001b[0m\u001b[1;33m)\u001b[0m\u001b[1;33m)\u001b[0m \u001b[1;33m<=\u001b[0m \u001b[1;36m0.75\u001b[0m\u001b[1;33m\u001b[0m\u001b[1;33m\u001b[0m\u001b[0m\n\u001b[1;32m----> 3\u001b[1;33m \u001b[0mdata_frame\u001b[0m\u001b[1;33m[\u001b[0m\u001b[1;34m'Type'\u001b[0m\u001b[1;33m]\u001b[0m \u001b[1;33m=\u001b[0m \u001b[0mpd\u001b[0m\u001b[1;33m.\u001b[0m\u001b[0mCategorical\u001b[0m\u001b[1;33m.\u001b[0m\u001b[0mfrom_codes\u001b[0m\u001b[1;33m(\u001b[0m\u001b[0mtargets\u001b[0m\u001b[1;33m,\u001b[0m \u001b[0mtarget_names\u001b[0m\u001b[1;33m)\u001b[0m\u001b[1;33m\u001b[0m\u001b[1;33m\u001b[0m\u001b[0m\n\u001b[0m",
      "\u001b[1;31mNameError\u001b[0m: name 'targets' is not defined"
     ]
    }
   ],
   "source": [
    "# dataset=datasets.load_iris.data()\n",
    "data_frame['is_train'] = np.random.uniform(0, 1, len(data_frame)) <= 0.75\n",
    "data_frame['Type'] = pd.Categorical.from_codes(targets, target_names)\n",
    "data_frame['Targets'] = targets"
   ]
  },
  {
   "cell_type": "code",
   "execution_count": 66,
   "metadata": {},
   "outputs": [
    {
     "ename": "AttributeError",
     "evalue": "'tuple' object has no attribute 'data'",
     "output_type": "error",
     "traceback": [
      "\u001b[1;31m---------------------------------------------------------------------------\u001b[0m",
      "\u001b[1;31mAttributeError\u001b[0m                            Traceback (most recent call last)",
      "\u001b[1;32m<ipython-input-66-2b583cbbd73d>\u001b[0m in \u001b[0;36m<module>\u001b[1;34m\u001b[0m\n\u001b[0;32m      1\u001b[0m \u001b[0mmodel\u001b[0m \u001b[1;33m=\u001b[0m \u001b[0mGaussianNB\u001b[0m\u001b[1;33m(\u001b[0m\u001b[1;33m)\u001b[0m\u001b[1;33m\u001b[0m\u001b[1;33m\u001b[0m\u001b[0m\n\u001b[1;32m----> 2\u001b[1;33m \u001b[0mmodel\u001b[0m\u001b[1;33m.\u001b[0m\u001b[0mfit\u001b[0m\u001b[1;33m(\u001b[0m\u001b[0mdataset\u001b[0m\u001b[1;33m.\u001b[0m\u001b[0mdata\u001b[0m\u001b[1;33m,\u001b[0m \u001b[0mdataset\u001b[0m\u001b[1;33m.\u001b[0m\u001b[0mtarget\u001b[0m\u001b[1;33m)\u001b[0m\u001b[1;33m\u001b[0m\u001b[1;33m\u001b[0m\u001b[0m\n\u001b[0m",
      "\u001b[1;31mAttributeError\u001b[0m: 'tuple' object has no attribute 'data'"
     ]
    }
   ],
   "source": [
    "model = GaussianNB()\n",
    "model.fit(dataset.data, dataset.target)"
   ]
  },
  {
   "cell_type": "code",
   "execution_count": 67,
   "metadata": {},
   "outputs": [
    {
     "name": "stdout",
     "output_type": "stream",
     "text": [
      "GaussianNB(priors=None, var_smoothing=1e-09)\n"
     ]
    }
   ],
   "source": [
    "print(model)"
   ]
  },
  {
   "cell_type": "code",
   "execution_count": 61,
   "metadata": {},
   "outputs": [],
   "source": [
    "expected= dataset.target\n",
    "predicted= model.predict(dataset.data)"
   ]
  },
  {
   "cell_type": "code",
   "execution_count": 62,
   "metadata": {},
   "outputs": [
    {
     "name": "stdout",
     "output_type": "stream",
     "text": [
      "              precision    recall  f1-score   support\n",
      "\n",
      "           0       1.00      1.00      1.00        50\n",
      "           1       0.94      0.94      0.94        50\n",
      "           2       0.94      0.94      0.94        50\n",
      "\n",
      "    accuracy                           0.96       150\n",
      "   macro avg       0.96      0.96      0.96       150\n",
      "weighted avg       0.96      0.96      0.96       150\n",
      "\n",
      "[[50  0  0]\n",
      " [ 0 47  3]\n",
      " [ 0  3 47]]\n"
     ]
    }
   ],
   "source": [
    "print(metrics.classification_report(expected, predicted))\n",
    "print(metrics.confusion_matrix(expected,predicted))"
   ]
  },
  {
   "cell_type": "code",
   "execution_count": null,
   "metadata": {},
   "outputs": [],
   "source": []
  }
 ],
 "metadata": {
  "kernelspec": {
   "display_name": "Python 3",
   "language": "python",
   "name": "python3"
  },
  "language_info": {
   "codemirror_mode": {
    "name": "ipython",
    "version": 3
   },
   "file_extension": ".py",
   "mimetype": "text/x-python",
   "name": "python",
   "nbconvert_exporter": "python",
   "pygments_lexer": "ipython3",
   "version": "3.7.6"
  }
 },
 "nbformat": 4,
 "nbformat_minor": 4
}
